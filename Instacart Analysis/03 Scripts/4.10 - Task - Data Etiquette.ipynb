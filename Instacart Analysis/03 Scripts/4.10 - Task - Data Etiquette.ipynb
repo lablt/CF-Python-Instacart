{
 "cells": [
  {
   "cell_type": "markdown",
   "id": "c7114cf6",
   "metadata": {},
   "source": [
    "# Table of Contents\n",
    "## 01. Importing Libraries & Data\n",
    "## 02. Review Security Implications\n",
    "## 03. Comparing Customer Behaviour via regional segmentation\n",
    "## 04. Creating an exclusion flag for low-activity customers\n",
    "## 05. Creating customer profiles\n",
    "## 06. Creating appropriate visualizations for profiles\n",
    "## 07. Aggregate max, mean, min variables on customer profiles for usage frequency and expenditure\n",
    "## 08. Compare customer profiles with regions and departments\n",
    "## 09. Producing Additional Charts for report\n",
    "## 10. Exporting final dataset"
   ]
  },
  {
   "cell_type": "markdown",
   "id": "ec0c3c6d",
   "metadata": {},
   "source": [
    "## 01. Importing Libraries & Data"
   ]
  },
  {
   "cell_type": "code",
   "execution_count": 1,
   "id": "319d6840",
   "metadata": {},
   "outputs": [],
   "source": [
    "# Importing libraries\n",
    "import pandas as pd\n",
    "import numpy as np\n",
    "import os\n",
    "import matplotlib.pyplot as plt\n",
    "import seaborn as sns\n",
    "import scipy"
   ]
  },
  {
   "cell_type": "code",
   "execution_count": 2,
   "id": "52ac9017",
   "metadata": {},
   "outputs": [],
   "source": [
    "# creating a path \n",
    "path = r'/Users/lianabulte/Career Foundry/2023 02 Instacart Basket Analysis'"
   ]
  },
  {
   "cell_type": "code",
   "execution_count": 3,
   "id": "9d54241f",
   "metadata": {},
   "outputs": [],
   "source": [
    "# importing dataset \n",
    "df_ords_prods_all = pd.read_pickle(os.path.join(path, '02 Data', 'Prepared Data', 'orders_products_all2.pkl'))"
   ]
  },
  {
   "cell_type": "markdown",
   "id": "1962191a",
   "metadata": {},
   "source": [
    "## 02. Review Security Implications"
   ]
  },
  {
   "cell_type": "code",
   "execution_count": 4,
   "id": "391517f7",
   "metadata": {},
   "outputs": [
    {
     "data": {
      "text/html": [
       "<div>\n",
       "<style scoped>\n",
       "    .dataframe tbody tr th:only-of-type {\n",
       "        vertical-align: middle;\n",
       "    }\n",
       "\n",
       "    .dataframe tbody tr th {\n",
       "        vertical-align: top;\n",
       "    }\n",
       "\n",
       "    .dataframe thead th {\n",
       "        text-align: right;\n",
       "    }\n",
       "</style>\n",
       "<table border=\"1\" class=\"dataframe\">\n",
       "  <thead>\n",
       "    <tr style=\"text-align: right;\">\n",
       "      <th></th>\n",
       "      <th>order_id</th>\n",
       "      <th>user_id</th>\n",
       "      <th>order_number</th>\n",
       "      <th>orders_day_of_week</th>\n",
       "      <th>order_hour_of_day</th>\n",
       "      <th>days_since_prior_order</th>\n",
       "      <th>product_id</th>\n",
       "      <th>add_to_cart_order</th>\n",
       "      <th>reordered</th>\n",
       "      <th>product_name</th>\n",
       "      <th>...</th>\n",
       "      <th>order_frequency_flag</th>\n",
       "      <th>first_name</th>\n",
       "      <th>last_name</th>\n",
       "      <th>gender</th>\n",
       "      <th>state</th>\n",
       "      <th>age</th>\n",
       "      <th>date_joined</th>\n",
       "      <th>n_dependants</th>\n",
       "      <th>fam_status</th>\n",
       "      <th>income</th>\n",
       "    </tr>\n",
       "  </thead>\n",
       "  <tbody>\n",
       "    <tr>\n",
       "      <th>0</th>\n",
       "      <td>2398795.0</td>\n",
       "      <td>1</td>\n",
       "      <td>2.0</td>\n",
       "      <td>3.0</td>\n",
       "      <td>7.0</td>\n",
       "      <td>15.0</td>\n",
       "      <td>196.0</td>\n",
       "      <td>1.0</td>\n",
       "      <td>1.0</td>\n",
       "      <td>Soda</td>\n",
       "      <td>...</td>\n",
       "      <td>Non-frequent customer</td>\n",
       "      <td>Linda</td>\n",
       "      <td>Nguyen</td>\n",
       "      <td>Female</td>\n",
       "      <td>Alabama</td>\n",
       "      <td>31</td>\n",
       "      <td>2/17/2019</td>\n",
       "      <td>3</td>\n",
       "      <td>married</td>\n",
       "      <td>40423</td>\n",
       "    </tr>\n",
       "    <tr>\n",
       "      <th>1</th>\n",
       "      <td>473747.0</td>\n",
       "      <td>1</td>\n",
       "      <td>3.0</td>\n",
       "      <td>3.0</td>\n",
       "      <td>12.0</td>\n",
       "      <td>21.0</td>\n",
       "      <td>196.0</td>\n",
       "      <td>1.0</td>\n",
       "      <td>1.0</td>\n",
       "      <td>Soda</td>\n",
       "      <td>...</td>\n",
       "      <td>Non-frequent customer</td>\n",
       "      <td>Linda</td>\n",
       "      <td>Nguyen</td>\n",
       "      <td>Female</td>\n",
       "      <td>Alabama</td>\n",
       "      <td>31</td>\n",
       "      <td>2/17/2019</td>\n",
       "      <td>3</td>\n",
       "      <td>married</td>\n",
       "      <td>40423</td>\n",
       "    </tr>\n",
       "    <tr>\n",
       "      <th>2</th>\n",
       "      <td>2254736.0</td>\n",
       "      <td>1</td>\n",
       "      <td>4.0</td>\n",
       "      <td>4.0</td>\n",
       "      <td>7.0</td>\n",
       "      <td>29.0</td>\n",
       "      <td>196.0</td>\n",
       "      <td>1.0</td>\n",
       "      <td>1.0</td>\n",
       "      <td>Soda</td>\n",
       "      <td>...</td>\n",
       "      <td>Non-frequent customer</td>\n",
       "      <td>Linda</td>\n",
       "      <td>Nguyen</td>\n",
       "      <td>Female</td>\n",
       "      <td>Alabama</td>\n",
       "      <td>31</td>\n",
       "      <td>2/17/2019</td>\n",
       "      <td>3</td>\n",
       "      <td>married</td>\n",
       "      <td>40423</td>\n",
       "    </tr>\n",
       "    <tr>\n",
       "      <th>3</th>\n",
       "      <td>431534.0</td>\n",
       "      <td>1</td>\n",
       "      <td>5.0</td>\n",
       "      <td>4.0</td>\n",
       "      <td>15.0</td>\n",
       "      <td>28.0</td>\n",
       "      <td>196.0</td>\n",
       "      <td>1.0</td>\n",
       "      <td>1.0</td>\n",
       "      <td>Soda</td>\n",
       "      <td>...</td>\n",
       "      <td>Non-frequent customer</td>\n",
       "      <td>Linda</td>\n",
       "      <td>Nguyen</td>\n",
       "      <td>Female</td>\n",
       "      <td>Alabama</td>\n",
       "      <td>31</td>\n",
       "      <td>2/17/2019</td>\n",
       "      <td>3</td>\n",
       "      <td>married</td>\n",
       "      <td>40423</td>\n",
       "    </tr>\n",
       "    <tr>\n",
       "      <th>4</th>\n",
       "      <td>3367565.0</td>\n",
       "      <td>1</td>\n",
       "      <td>6.0</td>\n",
       "      <td>2.0</td>\n",
       "      <td>7.0</td>\n",
       "      <td>19.0</td>\n",
       "      <td>196.0</td>\n",
       "      <td>1.0</td>\n",
       "      <td>1.0</td>\n",
       "      <td>Soda</td>\n",
       "      <td>...</td>\n",
       "      <td>Non-frequent customer</td>\n",
       "      <td>Linda</td>\n",
       "      <td>Nguyen</td>\n",
       "      <td>Female</td>\n",
       "      <td>Alabama</td>\n",
       "      <td>31</td>\n",
       "      <td>2/17/2019</td>\n",
       "      <td>3</td>\n",
       "      <td>married</td>\n",
       "      <td>40423</td>\n",
       "    </tr>\n",
       "  </tbody>\n",
       "</table>\n",
       "<p>5 rows × 33 columns</p>\n",
       "</div>"
      ],
      "text/plain": [
       "    order_id  user_id  order_number  orders_day_of_week  order_hour_of_day  \\\n",
       "0  2398795.0        1           2.0                 3.0                7.0   \n",
       "1   473747.0        1           3.0                 3.0               12.0   \n",
       "2  2254736.0        1           4.0                 4.0                7.0   \n",
       "3   431534.0        1           5.0                 4.0               15.0   \n",
       "4  3367565.0        1           6.0                 2.0                7.0   \n",
       "\n",
       "   days_since_prior_order  product_id  add_to_cart_order  reordered  \\\n",
       "0                    15.0       196.0                1.0        1.0   \n",
       "1                    21.0       196.0                1.0        1.0   \n",
       "2                    29.0       196.0                1.0        1.0   \n",
       "3                    28.0       196.0                1.0        1.0   \n",
       "4                    19.0       196.0                1.0        1.0   \n",
       "\n",
       "  product_name  ...   order_frequency_flag  first_name  last_name  gender  \\\n",
       "0         Soda  ...  Non-frequent customer       Linda     Nguyen  Female   \n",
       "1         Soda  ...  Non-frequent customer       Linda     Nguyen  Female   \n",
       "2         Soda  ...  Non-frequent customer       Linda     Nguyen  Female   \n",
       "3         Soda  ...  Non-frequent customer       Linda     Nguyen  Female   \n",
       "4         Soda  ...  Non-frequent customer       Linda     Nguyen  Female   \n",
       "\n",
       "     state age date_joined n_dependants  fam_status income  \n",
       "0  Alabama  31   2/17/2019            3     married  40423  \n",
       "1  Alabama  31   2/17/2019            3     married  40423  \n",
       "2  Alabama  31   2/17/2019            3     married  40423  \n",
       "3  Alabama  31   2/17/2019            3     married  40423  \n",
       "4  Alabama  31   2/17/2019            3     married  40423  \n",
       "\n",
       "[5 rows x 33 columns]"
      ]
     },
     "execution_count": 4,
     "metadata": {},
     "output_type": "execute_result"
    }
   ],
   "source": [
    "#checking headers\n",
    "df_ords_prods_all.head()"
   ]
  },
  {
   "cell_type": "code",
   "execution_count": 5,
   "id": "278ec19f",
   "metadata": {},
   "outputs": [
    {
     "data": {
      "text/plain": [
       "(30328764, 33)"
      ]
     },
     "execution_count": 5,
     "metadata": {},
     "output_type": "execute_result"
    }
   ],
   "source": [
    "# checking shape\n",
    "df_ords_prods_all.shape"
   ]
  },
  {
   "cell_type": "markdown",
   "id": "956f6afe",
   "metadata": {},
   "source": [
    "* First and last name variables would be considered PII and need to be removed"
   ]
  },
  {
   "cell_type": "code",
   "execution_count": 6,
   "id": "58ba2a6c",
   "metadata": {},
   "outputs": [],
   "source": [
    "# dropping the 2 columns\n",
    "df_ords_prods_all = df_ords_prods_all.drop(columns=['first_name', 'last_name'])"
   ]
  },
  {
   "cell_type": "code",
   "execution_count": 7,
   "id": "0e771e52",
   "metadata": {},
   "outputs": [
    {
     "data": {
      "text/html": [
       "<div>\n",
       "<style scoped>\n",
       "    .dataframe tbody tr th:only-of-type {\n",
       "        vertical-align: middle;\n",
       "    }\n",
       "\n",
       "    .dataframe tbody tr th {\n",
       "        vertical-align: top;\n",
       "    }\n",
       "\n",
       "    .dataframe thead th {\n",
       "        text-align: right;\n",
       "    }\n",
       "</style>\n",
       "<table border=\"1\" class=\"dataframe\">\n",
       "  <thead>\n",
       "    <tr style=\"text-align: right;\">\n",
       "      <th></th>\n",
       "      <th>order_id</th>\n",
       "      <th>user_id</th>\n",
       "      <th>order_number</th>\n",
       "      <th>orders_day_of_week</th>\n",
       "      <th>order_hour_of_day</th>\n",
       "      <th>days_since_prior_order</th>\n",
       "      <th>product_id</th>\n",
       "      <th>add_to_cart_order</th>\n",
       "      <th>reordered</th>\n",
       "      <th>product_name</th>\n",
       "      <th>...</th>\n",
       "      <th>spending_flag</th>\n",
       "      <th>median_prior_order</th>\n",
       "      <th>order_frequency_flag</th>\n",
       "      <th>gender</th>\n",
       "      <th>state</th>\n",
       "      <th>age</th>\n",
       "      <th>date_joined</th>\n",
       "      <th>n_dependants</th>\n",
       "      <th>fam_status</th>\n",
       "      <th>income</th>\n",
       "    </tr>\n",
       "  </thead>\n",
       "  <tbody>\n",
       "    <tr>\n",
       "      <th>0</th>\n",
       "      <td>2398795.0</td>\n",
       "      <td>1</td>\n",
       "      <td>2.0</td>\n",
       "      <td>3.0</td>\n",
       "      <td>7.0</td>\n",
       "      <td>15.0</td>\n",
       "      <td>196.0</td>\n",
       "      <td>1.0</td>\n",
       "      <td>1.0</td>\n",
       "      <td>Soda</td>\n",
       "      <td>...</td>\n",
       "      <td>Low spender</td>\n",
       "      <td>20.5</td>\n",
       "      <td>Non-frequent customer</td>\n",
       "      <td>Female</td>\n",
       "      <td>Alabama</td>\n",
       "      <td>31</td>\n",
       "      <td>2/17/2019</td>\n",
       "      <td>3</td>\n",
       "      <td>married</td>\n",
       "      <td>40423</td>\n",
       "    </tr>\n",
       "    <tr>\n",
       "      <th>1</th>\n",
       "      <td>473747.0</td>\n",
       "      <td>1</td>\n",
       "      <td>3.0</td>\n",
       "      <td>3.0</td>\n",
       "      <td>12.0</td>\n",
       "      <td>21.0</td>\n",
       "      <td>196.0</td>\n",
       "      <td>1.0</td>\n",
       "      <td>1.0</td>\n",
       "      <td>Soda</td>\n",
       "      <td>...</td>\n",
       "      <td>Low spender</td>\n",
       "      <td>20.5</td>\n",
       "      <td>Non-frequent customer</td>\n",
       "      <td>Female</td>\n",
       "      <td>Alabama</td>\n",
       "      <td>31</td>\n",
       "      <td>2/17/2019</td>\n",
       "      <td>3</td>\n",
       "      <td>married</td>\n",
       "      <td>40423</td>\n",
       "    </tr>\n",
       "    <tr>\n",
       "      <th>2</th>\n",
       "      <td>2254736.0</td>\n",
       "      <td>1</td>\n",
       "      <td>4.0</td>\n",
       "      <td>4.0</td>\n",
       "      <td>7.0</td>\n",
       "      <td>29.0</td>\n",
       "      <td>196.0</td>\n",
       "      <td>1.0</td>\n",
       "      <td>1.0</td>\n",
       "      <td>Soda</td>\n",
       "      <td>...</td>\n",
       "      <td>Low spender</td>\n",
       "      <td>20.5</td>\n",
       "      <td>Non-frequent customer</td>\n",
       "      <td>Female</td>\n",
       "      <td>Alabama</td>\n",
       "      <td>31</td>\n",
       "      <td>2/17/2019</td>\n",
       "      <td>3</td>\n",
       "      <td>married</td>\n",
       "      <td>40423</td>\n",
       "    </tr>\n",
       "    <tr>\n",
       "      <th>3</th>\n",
       "      <td>431534.0</td>\n",
       "      <td>1</td>\n",
       "      <td>5.0</td>\n",
       "      <td>4.0</td>\n",
       "      <td>15.0</td>\n",
       "      <td>28.0</td>\n",
       "      <td>196.0</td>\n",
       "      <td>1.0</td>\n",
       "      <td>1.0</td>\n",
       "      <td>Soda</td>\n",
       "      <td>...</td>\n",
       "      <td>Low spender</td>\n",
       "      <td>20.5</td>\n",
       "      <td>Non-frequent customer</td>\n",
       "      <td>Female</td>\n",
       "      <td>Alabama</td>\n",
       "      <td>31</td>\n",
       "      <td>2/17/2019</td>\n",
       "      <td>3</td>\n",
       "      <td>married</td>\n",
       "      <td>40423</td>\n",
       "    </tr>\n",
       "    <tr>\n",
       "      <th>4</th>\n",
       "      <td>3367565.0</td>\n",
       "      <td>1</td>\n",
       "      <td>6.0</td>\n",
       "      <td>2.0</td>\n",
       "      <td>7.0</td>\n",
       "      <td>19.0</td>\n",
       "      <td>196.0</td>\n",
       "      <td>1.0</td>\n",
       "      <td>1.0</td>\n",
       "      <td>Soda</td>\n",
       "      <td>...</td>\n",
       "      <td>Low spender</td>\n",
       "      <td>20.5</td>\n",
       "      <td>Non-frequent customer</td>\n",
       "      <td>Female</td>\n",
       "      <td>Alabama</td>\n",
       "      <td>31</td>\n",
       "      <td>2/17/2019</td>\n",
       "      <td>3</td>\n",
       "      <td>married</td>\n",
       "      <td>40423</td>\n",
       "    </tr>\n",
       "  </tbody>\n",
       "</table>\n",
       "<p>5 rows × 31 columns</p>\n",
       "</div>"
      ],
      "text/plain": [
       "    order_id  user_id  order_number  orders_day_of_week  order_hour_of_day  \\\n",
       "0  2398795.0        1           2.0                 3.0                7.0   \n",
       "1   473747.0        1           3.0                 3.0               12.0   \n",
       "2  2254736.0        1           4.0                 4.0                7.0   \n",
       "3   431534.0        1           5.0                 4.0               15.0   \n",
       "4  3367565.0        1           6.0                 2.0                7.0   \n",
       "\n",
       "   days_since_prior_order  product_id  add_to_cart_order  reordered  \\\n",
       "0                    15.0       196.0                1.0        1.0   \n",
       "1                    21.0       196.0                1.0        1.0   \n",
       "2                    29.0       196.0                1.0        1.0   \n",
       "3                    28.0       196.0                1.0        1.0   \n",
       "4                    19.0       196.0                1.0        1.0   \n",
       "\n",
       "  product_name  ...  spending_flag  median_prior_order   order_frequency_flag  \\\n",
       "0         Soda  ...    Low spender                20.5  Non-frequent customer   \n",
       "1         Soda  ...    Low spender                20.5  Non-frequent customer   \n",
       "2         Soda  ...    Low spender                20.5  Non-frequent customer   \n",
       "3         Soda  ...    Low spender                20.5  Non-frequent customer   \n",
       "4         Soda  ...    Low spender                20.5  Non-frequent customer   \n",
       "\n",
       "   gender    state age date_joined n_dependants  fam_status income  \n",
       "0  Female  Alabama  31   2/17/2019            3     married  40423  \n",
       "1  Female  Alabama  31   2/17/2019            3     married  40423  \n",
       "2  Female  Alabama  31   2/17/2019            3     married  40423  \n",
       "3  Female  Alabama  31   2/17/2019            3     married  40423  \n",
       "4  Female  Alabama  31   2/17/2019            3     married  40423  \n",
       "\n",
       "[5 rows x 31 columns]"
      ]
     },
     "execution_count": 7,
     "metadata": {},
     "output_type": "execute_result"
    }
   ],
   "source": [
    "# verifying the new df\n",
    "df_ords_prods_all.head()"
   ]
  },
  {
   "cell_type": "markdown",
   "id": "08f50502",
   "metadata": {},
   "source": [
    "## 03. Comparing Customer Behaviour via regional segmentation"
   ]
  },
  {
   "cell_type": "code",
   "execution_count": 9,
   "id": "0fceed2e",
   "metadata": {},
   "outputs": [
    {
     "data": {
      "text/plain": [
       "Pennsylvania            626003\n",
       "California              619377\n",
       "Rhode Island            616005\n",
       "Georgia                 615535\n",
       "New Mexico              613252\n",
       "Arizona                 613146\n",
       "North Carolina          611018\n",
       "Oklahoma                610954\n",
       "Alaska                  607402\n",
       "Minnesota               606952\n",
       "Massachusetts           606002\n",
       "Wyoming                 603254\n",
       "Virginia                600998\n",
       "Missouri                600027\n",
       "Texas                   599536\n",
       "Colorado                599168\n",
       "Maine                   597710\n",
       "North Dakota            597399\n",
       "Alabama                 596749\n",
       "Delaware                596476\n",
       "Louisiana               596377\n",
       "Kansas                  596360\n",
       "South Carolina          596268\n",
       "Nevada                  595274\n",
       "Arkansas                595097\n",
       "Oregon                  595079\n",
       "New York                594878\n",
       "Montana                 594458\n",
       "Washington              593357\n",
       "South Dakota            592697\n",
       "Hawaii                  592166\n",
       "Illinois                592080\n",
       "Kentucky                591669\n",
       "Mississippi             591373\n",
       "Michigan                590055\n",
       "Florida                 588777\n",
       "Wisconsin               587462\n",
       "Ohio                    587165\n",
       "Indiana                 587016\n",
       "New Jersey              586577\n",
       "Maryland                586228\n",
       "Iowa                    585291\n",
       "Nebraska                585082\n",
       "Connecticut             582420\n",
       "Tennessee               577469\n",
       "New Hampshire           575175\n",
       "District of Columbia    573683\n",
       "Utah                    572063\n",
       "West Virginia           571611\n",
       "Vermont                 571502\n",
       "Idaho                   567092\n",
       "Name: state, dtype: int64"
      ]
     },
     "execution_count": 9,
     "metadata": {},
     "output_type": "execute_result"
    }
   ],
   "source": [
    "# Reviewing state names in df\n",
    "df_ords_prods_all['state'].value_counts()"
   ]
  },
  {
   "cell_type": "markdown",
   "id": "8800d320",
   "metadata": {},
   "source": [
    "### 3.a Creating Regions"
   ]
  },
  {
   "cell_type": "code",
   "execution_count": 10,
   "id": "5bb2c294",
   "metadata": {},
   "outputs": [],
   "source": [
    "Northeast = ['Maine', 'New Hampshire', 'Vermont', 'Massachusetts', 'Rhode Island', 'Connecticut', 'New York', 'New Jersey']"
   ]
  },
  {
   "cell_type": "code",
   "execution_count": 11,
   "id": "fffe539e",
   "metadata": {},
   "outputs": [],
   "source": [
    "Midwest = ['Wisconsin', 'Michigan', 'Illinois', 'Indiana', 'Ohio', 'North Dakota', 'South Dakota', 'Nebraska', 'Kansas', 'Minnesota', 'Iowa', 'Missouri']"
   ]
  },
  {
   "cell_type": "code",
   "execution_count": 13,
   "id": "ebbbd853",
   "metadata": {},
   "outputs": [],
   "source": [
    "South = ['Delaware', 'Maryland', 'District of Columbia', 'Virginia', 'West Virginia', 'North Carolina', 'South Carolina', 'Georgia', 'Florida', 'Kentucky', 'Mississippi', 'Alabama', 'Oklahoma', 'Texas', 'Arkansas', 'Louisiana']"
   ]
  },
  {
   "cell_type": "code",
   "execution_count": 14,
   "id": "2ef8100d",
   "metadata": {},
   "outputs": [],
   "source": [
    "West = ['Idaho', 'Montana', 'Wyoming', 'Nevada', 'Utah', 'Colorado', 'Arizona', 'New Mexico', 'Alaska', 'Washington','Oregon', 'California', 'Hawaii']"
   ]
  },
  {
   "cell_type": "code",
   "execution_count": 15,
   "id": "47b46ec9",
   "metadata": {},
   "outputs": [],
   "source": [
    "# Using the 4 lists to create a new column\n",
    "df_ords_prods_all.loc[df_ords_prods_all['state'].isin(Northeast), 'region'] = 'Northeast'"
   ]
  },
  {
   "cell_type": "code",
   "execution_count": 16,
   "id": "760ae9c2",
   "metadata": {},
   "outputs": [],
   "source": [
    "df_ords_prods_all.loc[df_ords_prods_all['state'].isin(Midwest), 'region'] = 'Midwest'"
   ]
  },
  {
   "cell_type": "code",
   "execution_count": 17,
   "id": "237cbc67",
   "metadata": {},
   "outputs": [],
   "source": [
    "df_ords_prods_all.loc[df_ords_prods_all['state'].isin(South), 'region'] = 'South'"
   ]
  },
  {
   "cell_type": "code",
   "execution_count": 18,
   "id": "0aa6888f",
   "metadata": {},
   "outputs": [],
   "source": [
    "df_ords_prods_all.loc[df_ords_prods_all['state'].isin(West), 'region'] = 'West'"
   ]
  },
  {
   "cell_type": "code",
   "execution_count": 19,
   "id": "128eac5f",
   "metadata": {},
   "outputs": [
    {
     "data": {
      "text/plain": [
       "South        9522349\n",
       "West         7765088\n",
       "Midwest      7107586\n",
       "Northeast    4730269\n",
       "Name: region, dtype: int64"
      ]
     },
     "execution_count": 19,
     "metadata": {},
     "output_type": "execute_result"
    }
   ],
   "source": [
    "# Verifying new 'region' column\n",
    "df_ords_prods_all['region'].value_counts()"
   ]
  },
  {
   "cell_type": "code",
   "execution_count": 21,
   "id": "89c0b4c0",
   "metadata": {},
   "outputs": [
    {
     "data": {
      "text/plain": [
       "(30328764, 32)"
      ]
     },
     "execution_count": 21,
     "metadata": {},
     "output_type": "execute_result"
    }
   ],
   "source": [
    "# verifying the shape\n",
    "df_ords_prods_all.shape"
   ]
  },
  {
   "cell_type": "markdown",
   "id": "c1c21e21",
   "metadata": {},
   "source": [
    "### 3.b Reviewing relationship between spending habits & regions"
   ]
  },
  {
   "cell_type": "code",
   "execution_count": 22,
   "id": "72174753",
   "metadata": {},
   "outputs": [],
   "source": [
    "# creating crosstab with spending flag and region\n",
    "crosstab_spending = pd.crosstab(df_ords_prods_all['region'], df_ords_prods_all['spending_flag'], dropna = False)"
   ]
  },
  {
   "cell_type": "code",
   "execution_count": 23,
   "id": "1ff5f557",
   "metadata": {},
   "outputs": [
    {
     "data": {
      "text/html": [
       "<div>\n",
       "<style scoped>\n",
       "    .dataframe tbody tr th:only-of-type {\n",
       "        vertical-align: middle;\n",
       "    }\n",
       "\n",
       "    .dataframe tbody tr th {\n",
       "        vertical-align: top;\n",
       "    }\n",
       "\n",
       "    .dataframe thead th {\n",
       "        text-align: right;\n",
       "    }\n",
       "</style>\n",
       "<table border=\"1\" class=\"dataframe\">\n",
       "  <thead>\n",
       "    <tr style=\"text-align: right;\">\n",
       "      <th>spending_flag</th>\n",
       "      <th>High spender</th>\n",
       "      <th>Low spender</th>\n",
       "    </tr>\n",
       "    <tr>\n",
       "      <th>region</th>\n",
       "      <th></th>\n",
       "      <th></th>\n",
       "    </tr>\n",
       "  </thead>\n",
       "  <tbody>\n",
       "    <tr>\n",
       "      <th>Midwest</th>\n",
       "      <td>148321</td>\n",
       "      <td>6959265</td>\n",
       "    </tr>\n",
       "    <tr>\n",
       "      <th>Northeast</th>\n",
       "      <td>93073</td>\n",
       "      <td>4637196</td>\n",
       "    </tr>\n",
       "    <tr>\n",
       "      <th>South</th>\n",
       "      <td>186808</td>\n",
       "      <td>9335540</td>\n",
       "    </tr>\n",
       "    <tr>\n",
       "      <th>West</th>\n",
       "      <td>149922</td>\n",
       "      <td>7615166</td>\n",
       "    </tr>\n",
       "  </tbody>\n",
       "</table>\n",
       "</div>"
      ],
      "text/plain": [
       "spending_flag  High spender  Low spender\n",
       "region                                  \n",
       "Midwest              148321      6959265\n",
       "Northeast             93073      4637196\n",
       "South                186808      9335540\n",
       "West                 149922      7615166"
      ]
     },
     "execution_count": 23,
     "metadata": {},
     "output_type": "execute_result"
    }
   ],
   "source": [
    "crosstab_spending"
   ]
  },
  {
   "cell_type": "markdown",
   "id": "3923c473",
   "metadata": {},
   "source": [
    "## 04. Creating an exclusion flag for low-activity customers\n",
    "* Customers with less than 5 orders"
   ]
  },
  {
   "cell_type": "code",
   "execution_count": 25,
   "id": "1232a8e7",
   "metadata": {},
   "outputs": [],
   "source": [
    "# Creating a flag for activity levels\n",
    "df_ords_prods_all.loc[df_ords_prods_all['max_order'] < 5, 'activity_flag'] = 'low-activity'\n",
    "df_ords_prods_all.loc[df_ords_prods_all['max_order'] >= 5, 'activity_flag'] = 'high-activity'"
   ]
  },
  {
   "cell_type": "code",
   "execution_count": 26,
   "id": "7a930d1e",
   "metadata": {},
   "outputs": [
    {
     "data": {
      "text/plain": [
       "high-activity    29303281\n",
       "low-activity      1025482\n",
       "Name: activity_flag, dtype: int64"
      ]
     },
     "execution_count": 26,
     "metadata": {},
     "output_type": "execute_result"
    }
   ],
   "source": [
    "# Verifying new column has worked\n",
    "df_ords_prods_all['activity_flag'].value_counts()"
   ]
  },
  {
   "cell_type": "code",
   "execution_count": 27,
   "id": "37f3a2ce",
   "metadata": {},
   "outputs": [
    {
     "data": {
      "text/html": [
       "<div>\n",
       "<style scoped>\n",
       "    .dataframe tbody tr th:only-of-type {\n",
       "        vertical-align: middle;\n",
       "    }\n",
       "\n",
       "    .dataframe tbody tr th {\n",
       "        vertical-align: top;\n",
       "    }\n",
       "\n",
       "    .dataframe thead th {\n",
       "        text-align: right;\n",
       "    }\n",
       "</style>\n",
       "<table border=\"1\" class=\"dataframe\">\n",
       "  <thead>\n",
       "    <tr style=\"text-align: right;\">\n",
       "      <th></th>\n",
       "      <th>order_id</th>\n",
       "      <th>user_id</th>\n",
       "      <th>order_number</th>\n",
       "      <th>orders_day_of_week</th>\n",
       "      <th>order_hour_of_day</th>\n",
       "      <th>days_since_prior_order</th>\n",
       "      <th>product_id</th>\n",
       "      <th>add_to_cart_order</th>\n",
       "      <th>reordered</th>\n",
       "      <th>product_name</th>\n",
       "      <th>...</th>\n",
       "      <th>order_frequency_flag</th>\n",
       "      <th>gender</th>\n",
       "      <th>state</th>\n",
       "      <th>age</th>\n",
       "      <th>date_joined</th>\n",
       "      <th>n_dependants</th>\n",
       "      <th>fam_status</th>\n",
       "      <th>income</th>\n",
       "      <th>region</th>\n",
       "      <th>activity_flag</th>\n",
       "    </tr>\n",
       "  </thead>\n",
       "  <tbody>\n",
       "    <tr>\n",
       "      <th>0</th>\n",
       "      <td>2398795.0</td>\n",
       "      <td>1</td>\n",
       "      <td>2.0</td>\n",
       "      <td>3.0</td>\n",
       "      <td>7.0</td>\n",
       "      <td>15.0</td>\n",
       "      <td>196.0</td>\n",
       "      <td>1.0</td>\n",
       "      <td>1.0</td>\n",
       "      <td>Soda</td>\n",
       "      <td>...</td>\n",
       "      <td>Non-frequent customer</td>\n",
       "      <td>Female</td>\n",
       "      <td>Alabama</td>\n",
       "      <td>31</td>\n",
       "      <td>2/17/2019</td>\n",
       "      <td>3</td>\n",
       "      <td>married</td>\n",
       "      <td>40423</td>\n",
       "      <td>South</td>\n",
       "      <td>high-activity</td>\n",
       "    </tr>\n",
       "    <tr>\n",
       "      <th>1</th>\n",
       "      <td>473747.0</td>\n",
       "      <td>1</td>\n",
       "      <td>3.0</td>\n",
       "      <td>3.0</td>\n",
       "      <td>12.0</td>\n",
       "      <td>21.0</td>\n",
       "      <td>196.0</td>\n",
       "      <td>1.0</td>\n",
       "      <td>1.0</td>\n",
       "      <td>Soda</td>\n",
       "      <td>...</td>\n",
       "      <td>Non-frequent customer</td>\n",
       "      <td>Female</td>\n",
       "      <td>Alabama</td>\n",
       "      <td>31</td>\n",
       "      <td>2/17/2019</td>\n",
       "      <td>3</td>\n",
       "      <td>married</td>\n",
       "      <td>40423</td>\n",
       "      <td>South</td>\n",
       "      <td>high-activity</td>\n",
       "    </tr>\n",
       "    <tr>\n",
       "      <th>2</th>\n",
       "      <td>2254736.0</td>\n",
       "      <td>1</td>\n",
       "      <td>4.0</td>\n",
       "      <td>4.0</td>\n",
       "      <td>7.0</td>\n",
       "      <td>29.0</td>\n",
       "      <td>196.0</td>\n",
       "      <td>1.0</td>\n",
       "      <td>1.0</td>\n",
       "      <td>Soda</td>\n",
       "      <td>...</td>\n",
       "      <td>Non-frequent customer</td>\n",
       "      <td>Female</td>\n",
       "      <td>Alabama</td>\n",
       "      <td>31</td>\n",
       "      <td>2/17/2019</td>\n",
       "      <td>3</td>\n",
       "      <td>married</td>\n",
       "      <td>40423</td>\n",
       "      <td>South</td>\n",
       "      <td>high-activity</td>\n",
       "    </tr>\n",
       "    <tr>\n",
       "      <th>3</th>\n",
       "      <td>431534.0</td>\n",
       "      <td>1</td>\n",
       "      <td>5.0</td>\n",
       "      <td>4.0</td>\n",
       "      <td>15.0</td>\n",
       "      <td>28.0</td>\n",
       "      <td>196.0</td>\n",
       "      <td>1.0</td>\n",
       "      <td>1.0</td>\n",
       "      <td>Soda</td>\n",
       "      <td>...</td>\n",
       "      <td>Non-frequent customer</td>\n",
       "      <td>Female</td>\n",
       "      <td>Alabama</td>\n",
       "      <td>31</td>\n",
       "      <td>2/17/2019</td>\n",
       "      <td>3</td>\n",
       "      <td>married</td>\n",
       "      <td>40423</td>\n",
       "      <td>South</td>\n",
       "      <td>high-activity</td>\n",
       "    </tr>\n",
       "    <tr>\n",
       "      <th>4</th>\n",
       "      <td>3367565.0</td>\n",
       "      <td>1</td>\n",
       "      <td>6.0</td>\n",
       "      <td>2.0</td>\n",
       "      <td>7.0</td>\n",
       "      <td>19.0</td>\n",
       "      <td>196.0</td>\n",
       "      <td>1.0</td>\n",
       "      <td>1.0</td>\n",
       "      <td>Soda</td>\n",
       "      <td>...</td>\n",
       "      <td>Non-frequent customer</td>\n",
       "      <td>Female</td>\n",
       "      <td>Alabama</td>\n",
       "      <td>31</td>\n",
       "      <td>2/17/2019</td>\n",
       "      <td>3</td>\n",
       "      <td>married</td>\n",
       "      <td>40423</td>\n",
       "      <td>South</td>\n",
       "      <td>high-activity</td>\n",
       "    </tr>\n",
       "  </tbody>\n",
       "</table>\n",
       "<p>5 rows × 33 columns</p>\n",
       "</div>"
      ],
      "text/plain": [
       "    order_id  user_id  order_number  orders_day_of_week  order_hour_of_day  \\\n",
       "0  2398795.0        1           2.0                 3.0                7.0   \n",
       "1   473747.0        1           3.0                 3.0               12.0   \n",
       "2  2254736.0        1           4.0                 4.0                7.0   \n",
       "3   431534.0        1           5.0                 4.0               15.0   \n",
       "4  3367565.0        1           6.0                 2.0                7.0   \n",
       "\n",
       "   days_since_prior_order  product_id  add_to_cart_order  reordered  \\\n",
       "0                    15.0       196.0                1.0        1.0   \n",
       "1                    21.0       196.0                1.0        1.0   \n",
       "2                    29.0       196.0                1.0        1.0   \n",
       "3                    28.0       196.0                1.0        1.0   \n",
       "4                    19.0       196.0                1.0        1.0   \n",
       "\n",
       "  product_name  ...   order_frequency_flag  gender    state age date_joined  \\\n",
       "0         Soda  ...  Non-frequent customer  Female  Alabama  31   2/17/2019   \n",
       "1         Soda  ...  Non-frequent customer  Female  Alabama  31   2/17/2019   \n",
       "2         Soda  ...  Non-frequent customer  Female  Alabama  31   2/17/2019   \n",
       "3         Soda  ...  Non-frequent customer  Female  Alabama  31   2/17/2019   \n",
       "4         Soda  ...  Non-frequent customer  Female  Alabama  31   2/17/2019   \n",
       "\n",
       "  n_dependants fam_status income  region  activity_flag  \n",
       "0            3    married  40423   South  high-activity  \n",
       "1            3    married  40423   South  high-activity  \n",
       "2            3    married  40423   South  high-activity  \n",
       "3            3    married  40423   South  high-activity  \n",
       "4            3    married  40423   South  high-activity  \n",
       "\n",
       "[5 rows x 33 columns]"
      ]
     },
     "execution_count": 27,
     "metadata": {},
     "output_type": "execute_result"
    }
   ],
   "source": [
    "# Checking updated df\n",
    "df_ords_prods_all.head()"
   ]
  },
  {
   "cell_type": "code",
   "execution_count": 28,
   "id": "b2db7677",
   "metadata": {},
   "outputs": [],
   "source": [
    "# Excluding low_activiy from df\n",
    "df_highact = df_ords_prods_all.loc[df_ords_prods_all['activity_flag'] == 'high-activity']"
   ]
  },
  {
   "cell_type": "code",
   "execution_count": 29,
   "id": "5cdfcd09",
   "metadata": {},
   "outputs": [
    {
     "data": {
      "text/plain": [
       "high-activity    29303281\n",
       "Name: activity_flag, dtype: int64"
      ]
     },
     "execution_count": 29,
     "metadata": {},
     "output_type": "execute_result"
    }
   ],
   "source": [
    "# Verifying that low activity has been removed\n",
    "df_highact['activity_flag'].value_counts()"
   ]
  },
  {
   "cell_type": "code",
   "execution_count": 31,
   "id": "febf7fca",
   "metadata": {},
   "outputs": [
    {
     "data": {
      "text/plain": [
       "(29303281, 33)"
      ]
     },
     "execution_count": 31,
     "metadata": {},
     "output_type": "execute_result"
    }
   ],
   "source": [
    "df_highact.shape"
   ]
  },
  {
   "cell_type": "markdown",
   "id": "79bcb25b",
   "metadata": {},
   "source": [
    "Data matches previous value count check - good to proceed with export"
   ]
  },
  {
   "cell_type": "code",
   "execution_count": 32,
   "id": "f4eec01c",
   "metadata": {},
   "outputs": [],
   "source": [
    "# Exporting df_highact to pkl\n",
    "df_highact.to_pickle(os.path.join(path, '02 Data', 'Prepared Data', 'high_activity_customers.pkl'))"
   ]
  },
  {
   "cell_type": "markdown",
   "id": "8de41e32",
   "metadata": {},
   "source": [
    "## 05. Creating customer profiles"
   ]
  },
  {
   "cell_type": "code",
   "execution_count": 33,
   "id": "86858de5",
   "metadata": {},
   "outputs": [],
   "source": [
    "# Importing newly exported pkl\n",
    "df_ha_cust = pd.read_pickle(os.path.join(path, '02 Data', 'Prepared Data', 'high_activity_customers.pkl'))"
   ]
  },
  {
   "cell_type": "code",
   "execution_count": 34,
   "id": "2481465a",
   "metadata": {},
   "outputs": [],
   "source": [
    "# Importing department csv\n",
    "departments = pd.read_csv(os.path.join(path, '02 Data', 'Prepared Data', 'departments_wrangled.csv'))"
   ]
  },
  {
   "cell_type": "markdown",
   "id": "f10a870d",
   "metadata": {},
   "source": [
    "#### Reviewing variables: Age, Income, Number of Dependants, and Departments"
   ]
  },
  {
   "cell_type": "code",
   "execution_count": 35,
   "id": "8861f5aa",
   "metadata": {},
   "outputs": [
    {
     "data": {
      "text/plain": [
       "count    2.930328e+07\n",
       "mean     4.946594e+01\n",
       "std      1.848512e+01\n",
       "min      1.800000e+01\n",
       "25%      3.300000e+01\n",
       "50%      4.900000e+01\n",
       "75%      6.500000e+01\n",
       "max      8.100000e+01\n",
       "Name: age, dtype: float64"
      ]
     },
     "execution_count": 35,
     "metadata": {},
     "output_type": "execute_result"
    }
   ],
   "source": [
    "# View distribution of age\n",
    "df_ha_cust['age'].describe()"
   ]
  },
  {
   "cell_type": "markdown",
   "id": "67a6cc2c",
   "metadata": {},
   "source": [
    "age groupings will be divided into 3: young adult (18 - 33), adult (34 - 64), senior (65 - 81)"
   ]
  },
  {
   "cell_type": "code",
   "execution_count": 36,
   "id": "0b19c4c5",
   "metadata": {},
   "outputs": [],
   "source": [
    "# Creating age groups\n",
    "df_ha_cust.loc[(df_ha_cust['age'] >= 18) & (df_ha_cust['age'] < 34), 'age_group'] = 'Young adult'\n",
    "df_ha_cust.loc[(df_ha_cust['age'] >= 34) & (df_ha_cust['age'] < 65), 'age_group'] = 'Adult'\n",
    "df_ha_cust.loc[df_ha_cust['age'] >= 65, 'age_group'] = 'Senior'"
   ]
  },
  {
   "cell_type": "code",
   "execution_count": 37,
   "id": "10551c21",
   "metadata": {},
   "outputs": [
    {
     "data": {
      "text/plain": [
       "Adult          14208006\n",
       "Senior          7754560\n",
       "Young adult     7340715\n",
       "Name: age_group, dtype: int64"
      ]
     },
     "execution_count": 37,
     "metadata": {},
     "output_type": "execute_result"
    }
   ],
   "source": [
    "# Checking that labels worked\n",
    "df_ha_cust['age_group'].value_counts()"
   ]
  },
  {
   "cell_type": "code",
   "execution_count": 38,
   "id": "256ee2a5",
   "metadata": {},
   "outputs": [
    {
     "data": {
      "text/plain": [
       "(29303281, 34)"
      ]
     },
     "execution_count": 38,
     "metadata": {},
     "output_type": "execute_result"
    }
   ],
   "source": [
    "df_ha_cust.shape"
   ]
  },
  {
   "cell_type": "code",
   "execution_count": 39,
   "id": "4c54f0da",
   "metadata": {},
   "outputs": [
    {
     "data": {
      "text/plain": [
       "count    2.930328e+07\n",
       "mean     9.972059e+04\n",
       "std      4.317487e+04\n",
       "min      2.590300e+04\n",
       "25%      6.735100e+04\n",
       "50%      9.678000e+04\n",
       "75%      1.281150e+05\n",
       "max      5.939010e+05\n",
       "Name: income, dtype: float64"
      ]
     },
     "execution_count": 39,
     "metadata": {},
     "output_type": "execute_result"
    }
   ],
   "source": [
    "# View distribution of income\n",
    "df_ha_cust['income'].describe()"
   ]
  },
  {
   "cell_type": "markdown",
   "id": "e57a99ab",
   "metadata": {},
   "source": [
    "income will be divided into 4 groups: Low income(< 67,360), Middle income(67,361-96,780), Upper middle (96,781 - 128,115), High income (>128,116)"
   ]
  },
  {
   "cell_type": "code",
   "execution_count": 42,
   "id": "0dca140a",
   "metadata": {},
   "outputs": [],
   "source": [
    "# Creating income levels\n",
    "df_ha_cust.loc[df_ha_cust['income'] < 67360, 'income_level'] = 'Low Income'\n",
    "df_ha_cust.loc[(df_ha_cust['income'] >= 67361) & (df_ha_cust['income'] < 96780), 'income_level'] = 'Middle Income'\n",
    "df_ha_cust.loc[(df_ha_cust['income'] >= 96780) & (df_ha_cust['income'] < 128115), 'income_level'] = 'Uppder Middle Income'\n",
    "df_ha_cust.loc[df_ha_cust['income'] >= 128115, 'income_level'] = 'High Income'"
   ]
  },
  {
   "cell_type": "code",
   "execution_count": 43,
   "id": "2e0d30e8",
   "metadata": {},
   "outputs": [
    {
     "data": {
      "text/plain": [
       "Low Income              7326733\n",
       "Uppder Middle Income    7326589\n",
       "High Income             7325998\n",
       "Middle Income           7323961\n",
       "Name: income_level, dtype: int64"
      ]
     },
     "execution_count": 43,
     "metadata": {},
     "output_type": "execute_result"
    }
   ],
   "source": [
    "# Checking that labels worked\n",
    "df_ha_cust['income_level'].value_counts()"
   ]
  },
  {
   "cell_type": "code",
   "execution_count": 44,
   "id": "e5faffe8",
   "metadata": {},
   "outputs": [
    {
     "data": {
      "text/plain": [
       "(29303281, 35)"
      ]
     },
     "execution_count": 44,
     "metadata": {},
     "output_type": "execute_result"
    }
   ],
   "source": [
    "df_ha_cust.shape"
   ]
  },
  {
   "cell_type": "code",
   "execution_count": 45,
   "id": "59606b71",
   "metadata": {},
   "outputs": [],
   "source": [
    "# viewing connection between 'fam_status' and 'n_dependants'\n",
    "crosstab_fam = pd.crosstab(df_ha_cust['fam_status'],df_ha_cust['n_dependants'],dropna = False)"
   ]
  },
  {
   "cell_type": "code",
   "execution_count": 46,
   "id": "6dc5da88",
   "metadata": {},
   "outputs": [
    {
     "data": {
      "text/html": [
       "<div>\n",
       "<style scoped>\n",
       "    .dataframe tbody tr th:only-of-type {\n",
       "        vertical-align: middle;\n",
       "    }\n",
       "\n",
       "    .dataframe tbody tr th {\n",
       "        vertical-align: top;\n",
       "    }\n",
       "\n",
       "    .dataframe thead th {\n",
       "        text-align: right;\n",
       "    }\n",
       "</style>\n",
       "<table border=\"1\" class=\"dataframe\">\n",
       "  <thead>\n",
       "    <tr style=\"text-align: right;\">\n",
       "      <th>n_dependants</th>\n",
       "      <th>0</th>\n",
       "      <th>1</th>\n",
       "      <th>2</th>\n",
       "      <th>3</th>\n",
       "    </tr>\n",
       "    <tr>\n",
       "      <th>fam_status</th>\n",
       "      <th></th>\n",
       "      <th></th>\n",
       "      <th></th>\n",
       "      <th></th>\n",
       "    </tr>\n",
       "  </thead>\n",
       "  <tbody>\n",
       "    <tr>\n",
       "      <th>divorced/widowed</th>\n",
       "      <td>2504114</td>\n",
       "      <td>0</td>\n",
       "      <td>0</td>\n",
       "      <td>0</td>\n",
       "    </tr>\n",
       "    <tr>\n",
       "      <th>living with parents and siblings</th>\n",
       "      <td>0</td>\n",
       "      <td>481447</td>\n",
       "      <td>458654</td>\n",
       "      <td>462551</td>\n",
       "    </tr>\n",
       "    <tr>\n",
       "      <th>married</th>\n",
       "      <td>0</td>\n",
       "      <td>6822179</td>\n",
       "      <td>6858671</td>\n",
       "      <td>6894892</td>\n",
       "    </tr>\n",
       "    <tr>\n",
       "      <th>single</th>\n",
       "      <td>4820773</td>\n",
       "      <td>0</td>\n",
       "      <td>0</td>\n",
       "      <td>0</td>\n",
       "    </tr>\n",
       "  </tbody>\n",
       "</table>\n",
       "</div>"
      ],
      "text/plain": [
       "n_dependants                            0        1        2        3\n",
       "fam_status                                                          \n",
       "divorced/widowed                  2504114        0        0        0\n",
       "living with parents and siblings        0   481447   458654   462551\n",
       "married                                 0  6822179  6858671  6894892\n",
       "single                            4820773        0        0        0"
      ]
     },
     "execution_count": 46,
     "metadata": {},
     "output_type": "execute_result"
    }
   ],
   "source": [
    "crosstab_fam"
   ]
  },
  {
   "cell_type": "code",
   "execution_count": 48,
   "id": "029c17ad",
   "metadata": {},
   "outputs": [
    {
     "data": {
      "text/html": [
       "<div>\n",
       "<style scoped>\n",
       "    .dataframe tbody tr th:only-of-type {\n",
       "        vertical-align: middle;\n",
       "    }\n",
       "\n",
       "    .dataframe tbody tr th {\n",
       "        vertical-align: top;\n",
       "    }\n",
       "\n",
       "    .dataframe thead th {\n",
       "        text-align: right;\n",
       "    }\n",
       "</style>\n",
       "<table border=\"1\" class=\"dataframe\">\n",
       "  <thead>\n",
       "    <tr style=\"text-align: right;\">\n",
       "      <th></th>\n",
       "      <th>order_id</th>\n",
       "      <th>user_id</th>\n",
       "      <th>order_number</th>\n",
       "      <th>orders_day_of_week</th>\n",
       "      <th>order_hour_of_day</th>\n",
       "      <th>days_since_prior_order</th>\n",
       "      <th>product_id</th>\n",
       "      <th>add_to_cart_order</th>\n",
       "      <th>reordered</th>\n",
       "      <th>product_name</th>\n",
       "      <th>aisle_id</th>\n",
       "      <th>department_id</th>\n",
       "      <th>prices</th>\n",
       "      <th>_merge</th>\n",
       "      <th>price_range_loc</th>\n",
       "      <th>busiest_day</th>\n",
       "      <th>busiest_days</th>\n",
       "      <th>busiest_period_of_day</th>\n",
       "      <th>max_order</th>\n",
       "      <th>loyalty_flag</th>\n",
       "      <th>avg_price</th>\n",
       "      <th>spending_flag</th>\n",
       "      <th>median_prior_order</th>\n",
       "      <th>order_frequency_flag</th>\n",
       "      <th>gender</th>\n",
       "      <th>state</th>\n",
       "      <th>age</th>\n",
       "      <th>date_joined</th>\n",
       "      <th>n_dependants</th>\n",
       "      <th>fam_status</th>\n",
       "      <th>income</th>\n",
       "      <th>region</th>\n",
       "      <th>activity_flag</th>\n",
       "      <th>age_group</th>\n",
       "      <th>income_level</th>\n",
       "    </tr>\n",
       "  </thead>\n",
       "  <tbody>\n",
       "    <tr>\n",
       "      <th>0</th>\n",
       "      <td>2398795.0</td>\n",
       "      <td>1</td>\n",
       "      <td>2.0</td>\n",
       "      <td>3.0</td>\n",
       "      <td>7.0</td>\n",
       "      <td>15.0</td>\n",
       "      <td>196.0</td>\n",
       "      <td>1.0</td>\n",
       "      <td>1.0</td>\n",
       "      <td>Soda</td>\n",
       "      <td>77.0</td>\n",
       "      <td>7.0</td>\n",
       "      <td>9.0</td>\n",
       "      <td>both</td>\n",
       "      <td>Mid-range product</td>\n",
       "      <td>Regularly busy</td>\n",
       "      <td>Slowest days</td>\n",
       "      <td>Average orders</td>\n",
       "      <td>10.0</td>\n",
       "      <td>New customer</td>\n",
       "      <td>6.372222</td>\n",
       "      <td>Low spender</td>\n",
       "      <td>20.5</td>\n",
       "      <td>Non-frequent customer</td>\n",
       "      <td>Female</td>\n",
       "      <td>Alabama</td>\n",
       "      <td>31</td>\n",
       "      <td>2/17/2019</td>\n",
       "      <td>3</td>\n",
       "      <td>married</td>\n",
       "      <td>40423</td>\n",
       "      <td>South</td>\n",
       "      <td>high-activity</td>\n",
       "      <td>Young adult</td>\n",
       "      <td>Low Income</td>\n",
       "    </tr>\n",
       "    <tr>\n",
       "      <th>1</th>\n",
       "      <td>473747.0</td>\n",
       "      <td>1</td>\n",
       "      <td>3.0</td>\n",
       "      <td>3.0</td>\n",
       "      <td>12.0</td>\n",
       "      <td>21.0</td>\n",
       "      <td>196.0</td>\n",
       "      <td>1.0</td>\n",
       "      <td>1.0</td>\n",
       "      <td>Soda</td>\n",
       "      <td>77.0</td>\n",
       "      <td>7.0</td>\n",
       "      <td>9.0</td>\n",
       "      <td>both</td>\n",
       "      <td>Mid-range product</td>\n",
       "      <td>Regularly busy</td>\n",
       "      <td>Slowest days</td>\n",
       "      <td>Most orders</td>\n",
       "      <td>10.0</td>\n",
       "      <td>New customer</td>\n",
       "      <td>6.372222</td>\n",
       "      <td>Low spender</td>\n",
       "      <td>20.5</td>\n",
       "      <td>Non-frequent customer</td>\n",
       "      <td>Female</td>\n",
       "      <td>Alabama</td>\n",
       "      <td>31</td>\n",
       "      <td>2/17/2019</td>\n",
       "      <td>3</td>\n",
       "      <td>married</td>\n",
       "      <td>40423</td>\n",
       "      <td>South</td>\n",
       "      <td>high-activity</td>\n",
       "      <td>Young adult</td>\n",
       "      <td>Low Income</td>\n",
       "    </tr>\n",
       "    <tr>\n",
       "      <th>2</th>\n",
       "      <td>2254736.0</td>\n",
       "      <td>1</td>\n",
       "      <td>4.0</td>\n",
       "      <td>4.0</td>\n",
       "      <td>7.0</td>\n",
       "      <td>29.0</td>\n",
       "      <td>196.0</td>\n",
       "      <td>1.0</td>\n",
       "      <td>1.0</td>\n",
       "      <td>Soda</td>\n",
       "      <td>77.0</td>\n",
       "      <td>7.0</td>\n",
       "      <td>9.0</td>\n",
       "      <td>both</td>\n",
       "      <td>Mid-range product</td>\n",
       "      <td>Least busy</td>\n",
       "      <td>Slowest days</td>\n",
       "      <td>Average orders</td>\n",
       "      <td>10.0</td>\n",
       "      <td>New customer</td>\n",
       "      <td>6.372222</td>\n",
       "      <td>Low spender</td>\n",
       "      <td>20.5</td>\n",
       "      <td>Non-frequent customer</td>\n",
       "      <td>Female</td>\n",
       "      <td>Alabama</td>\n",
       "      <td>31</td>\n",
       "      <td>2/17/2019</td>\n",
       "      <td>3</td>\n",
       "      <td>married</td>\n",
       "      <td>40423</td>\n",
       "      <td>South</td>\n",
       "      <td>high-activity</td>\n",
       "      <td>Young adult</td>\n",
       "      <td>Low Income</td>\n",
       "    </tr>\n",
       "    <tr>\n",
       "      <th>3</th>\n",
       "      <td>431534.0</td>\n",
       "      <td>1</td>\n",
       "      <td>5.0</td>\n",
       "      <td>4.0</td>\n",
       "      <td>15.0</td>\n",
       "      <td>28.0</td>\n",
       "      <td>196.0</td>\n",
       "      <td>1.0</td>\n",
       "      <td>1.0</td>\n",
       "      <td>Soda</td>\n",
       "      <td>77.0</td>\n",
       "      <td>7.0</td>\n",
       "      <td>9.0</td>\n",
       "      <td>both</td>\n",
       "      <td>Mid-range product</td>\n",
       "      <td>Least busy</td>\n",
       "      <td>Slowest days</td>\n",
       "      <td>Most orders</td>\n",
       "      <td>10.0</td>\n",
       "      <td>New customer</td>\n",
       "      <td>6.372222</td>\n",
       "      <td>Low spender</td>\n",
       "      <td>20.5</td>\n",
       "      <td>Non-frequent customer</td>\n",
       "      <td>Female</td>\n",
       "      <td>Alabama</td>\n",
       "      <td>31</td>\n",
       "      <td>2/17/2019</td>\n",
       "      <td>3</td>\n",
       "      <td>married</td>\n",
       "      <td>40423</td>\n",
       "      <td>South</td>\n",
       "      <td>high-activity</td>\n",
       "      <td>Young adult</td>\n",
       "      <td>Low Income</td>\n",
       "    </tr>\n",
       "    <tr>\n",
       "      <th>4</th>\n",
       "      <td>3367565.0</td>\n",
       "      <td>1</td>\n",
       "      <td>6.0</td>\n",
       "      <td>2.0</td>\n",
       "      <td>7.0</td>\n",
       "      <td>19.0</td>\n",
       "      <td>196.0</td>\n",
       "      <td>1.0</td>\n",
       "      <td>1.0</td>\n",
       "      <td>Soda</td>\n",
       "      <td>77.0</td>\n",
       "      <td>7.0</td>\n",
       "      <td>9.0</td>\n",
       "      <td>both</td>\n",
       "      <td>Mid-range product</td>\n",
       "      <td>Regularly busy</td>\n",
       "      <td>Regular days</td>\n",
       "      <td>Average orders</td>\n",
       "      <td>10.0</td>\n",
       "      <td>New customer</td>\n",
       "      <td>6.372222</td>\n",
       "      <td>Low spender</td>\n",
       "      <td>20.5</td>\n",
       "      <td>Non-frequent customer</td>\n",
       "      <td>Female</td>\n",
       "      <td>Alabama</td>\n",
       "      <td>31</td>\n",
       "      <td>2/17/2019</td>\n",
       "      <td>3</td>\n",
       "      <td>married</td>\n",
       "      <td>40423</td>\n",
       "      <td>South</td>\n",
       "      <td>high-activity</td>\n",
       "      <td>Young adult</td>\n",
       "      <td>Low Income</td>\n",
       "    </tr>\n",
       "  </tbody>\n",
       "</table>\n",
       "</div>"
      ],
      "text/plain": [
       "    order_id  user_id  order_number  orders_day_of_week  order_hour_of_day  \\\n",
       "0  2398795.0        1           2.0                 3.0                7.0   \n",
       "1   473747.0        1           3.0                 3.0               12.0   \n",
       "2  2254736.0        1           4.0                 4.0                7.0   \n",
       "3   431534.0        1           5.0                 4.0               15.0   \n",
       "4  3367565.0        1           6.0                 2.0                7.0   \n",
       "\n",
       "   days_since_prior_order  product_id  add_to_cart_order  reordered  \\\n",
       "0                    15.0       196.0                1.0        1.0   \n",
       "1                    21.0       196.0                1.0        1.0   \n",
       "2                    29.0       196.0                1.0        1.0   \n",
       "3                    28.0       196.0                1.0        1.0   \n",
       "4                    19.0       196.0                1.0        1.0   \n",
       "\n",
       "  product_name  aisle_id  department_id  prices _merge    price_range_loc  \\\n",
       "0         Soda      77.0            7.0     9.0   both  Mid-range product   \n",
       "1         Soda      77.0            7.0     9.0   both  Mid-range product   \n",
       "2         Soda      77.0            7.0     9.0   both  Mid-range product   \n",
       "3         Soda      77.0            7.0     9.0   both  Mid-range product   \n",
       "4         Soda      77.0            7.0     9.0   both  Mid-range product   \n",
       "\n",
       "      busiest_day  busiest_days busiest_period_of_day  max_order  \\\n",
       "0  Regularly busy  Slowest days        Average orders       10.0   \n",
       "1  Regularly busy  Slowest days           Most orders       10.0   \n",
       "2      Least busy  Slowest days        Average orders       10.0   \n",
       "3      Least busy  Slowest days           Most orders       10.0   \n",
       "4  Regularly busy  Regular days        Average orders       10.0   \n",
       "\n",
       "   loyalty_flag  avg_price spending_flag  median_prior_order  \\\n",
       "0  New customer   6.372222   Low spender                20.5   \n",
       "1  New customer   6.372222   Low spender                20.5   \n",
       "2  New customer   6.372222   Low spender                20.5   \n",
       "3  New customer   6.372222   Low spender                20.5   \n",
       "4  New customer   6.372222   Low spender                20.5   \n",
       "\n",
       "    order_frequency_flag  gender    state  age date_joined  n_dependants  \\\n",
       "0  Non-frequent customer  Female  Alabama   31   2/17/2019             3   \n",
       "1  Non-frequent customer  Female  Alabama   31   2/17/2019             3   \n",
       "2  Non-frequent customer  Female  Alabama   31   2/17/2019             3   \n",
       "3  Non-frequent customer  Female  Alabama   31   2/17/2019             3   \n",
       "4  Non-frequent customer  Female  Alabama   31   2/17/2019             3   \n",
       "\n",
       "  fam_status  income region  activity_flag    age_group income_level  \n",
       "0    married   40423  South  high-activity  Young adult   Low Income  \n",
       "1    married   40423  South  high-activity  Young adult   Low Income  \n",
       "2    married   40423  South  high-activity  Young adult   Low Income  \n",
       "3    married   40423  South  high-activity  Young adult   Low Income  \n",
       "4    married   40423  South  high-activity  Young adult   Low Income  "
      ]
     },
     "execution_count": 48,
     "metadata": {},
     "output_type": "execute_result"
    }
   ],
   "source": [
    "#reviewing columns of df\n",
    "pd.set_option('display.max_columns', None)\n",
    "df_ha_cust.head()"
   ]
  },
  {
   "cell_type": "code",
   "execution_count": 47,
   "id": "7b751ccd",
   "metadata": {},
   "outputs": [
    {
     "data": {
      "text/html": [
       "<div>\n",
       "<style scoped>\n",
       "    .dataframe tbody tr th:only-of-type {\n",
       "        vertical-align: middle;\n",
       "    }\n",
       "\n",
       "    .dataframe tbody tr th {\n",
       "        vertical-align: top;\n",
       "    }\n",
       "\n",
       "    .dataframe thead th {\n",
       "        text-align: right;\n",
       "    }\n",
       "</style>\n",
       "<table border=\"1\" class=\"dataframe\">\n",
       "  <thead>\n",
       "    <tr style=\"text-align: right;\">\n",
       "      <th></th>\n",
       "      <th>Unnamed: 0</th>\n",
       "      <th>department</th>\n",
       "    </tr>\n",
       "  </thead>\n",
       "  <tbody>\n",
       "    <tr>\n",
       "      <th>0</th>\n",
       "      <td>1</td>\n",
       "      <td>frozen</td>\n",
       "    </tr>\n",
       "    <tr>\n",
       "      <th>1</th>\n",
       "      <td>2</td>\n",
       "      <td>other</td>\n",
       "    </tr>\n",
       "    <tr>\n",
       "      <th>2</th>\n",
       "      <td>3</td>\n",
       "      <td>bakery</td>\n",
       "    </tr>\n",
       "    <tr>\n",
       "      <th>3</th>\n",
       "      <td>4</td>\n",
       "      <td>produce</td>\n",
       "    </tr>\n",
       "    <tr>\n",
       "      <th>4</th>\n",
       "      <td>5</td>\n",
       "      <td>alcohol</td>\n",
       "    </tr>\n",
       "    <tr>\n",
       "      <th>5</th>\n",
       "      <td>6</td>\n",
       "      <td>international</td>\n",
       "    </tr>\n",
       "    <tr>\n",
       "      <th>6</th>\n",
       "      <td>7</td>\n",
       "      <td>beverages</td>\n",
       "    </tr>\n",
       "    <tr>\n",
       "      <th>7</th>\n",
       "      <td>8</td>\n",
       "      <td>pets</td>\n",
       "    </tr>\n",
       "    <tr>\n",
       "      <th>8</th>\n",
       "      <td>9</td>\n",
       "      <td>dry goods pasta</td>\n",
       "    </tr>\n",
       "    <tr>\n",
       "      <th>9</th>\n",
       "      <td>10</td>\n",
       "      <td>bulk</td>\n",
       "    </tr>\n",
       "    <tr>\n",
       "      <th>10</th>\n",
       "      <td>11</td>\n",
       "      <td>personal care</td>\n",
       "    </tr>\n",
       "    <tr>\n",
       "      <th>11</th>\n",
       "      <td>12</td>\n",
       "      <td>meat seafood</td>\n",
       "    </tr>\n",
       "    <tr>\n",
       "      <th>12</th>\n",
       "      <td>13</td>\n",
       "      <td>pantry</td>\n",
       "    </tr>\n",
       "    <tr>\n",
       "      <th>13</th>\n",
       "      <td>14</td>\n",
       "      <td>breakfast</td>\n",
       "    </tr>\n",
       "    <tr>\n",
       "      <th>14</th>\n",
       "      <td>15</td>\n",
       "      <td>canned goods</td>\n",
       "    </tr>\n",
       "    <tr>\n",
       "      <th>15</th>\n",
       "      <td>16</td>\n",
       "      <td>dairy eggs</td>\n",
       "    </tr>\n",
       "    <tr>\n",
       "      <th>16</th>\n",
       "      <td>17</td>\n",
       "      <td>household</td>\n",
       "    </tr>\n",
       "    <tr>\n",
       "      <th>17</th>\n",
       "      <td>18</td>\n",
       "      <td>babies</td>\n",
       "    </tr>\n",
       "    <tr>\n",
       "      <th>18</th>\n",
       "      <td>19</td>\n",
       "      <td>snacks</td>\n",
       "    </tr>\n",
       "    <tr>\n",
       "      <th>19</th>\n",
       "      <td>20</td>\n",
       "      <td>deli</td>\n",
       "    </tr>\n",
       "    <tr>\n",
       "      <th>20</th>\n",
       "      <td>21</td>\n",
       "      <td>missing</td>\n",
       "    </tr>\n",
       "  </tbody>\n",
       "</table>\n",
       "</div>"
      ],
      "text/plain": [
       "    Unnamed: 0       department\n",
       "0            1           frozen\n",
       "1            2            other\n",
       "2            3           bakery\n",
       "3            4          produce\n",
       "4            5          alcohol\n",
       "5            6    international\n",
       "6            7        beverages\n",
       "7            8             pets\n",
       "8            9  dry goods pasta\n",
       "9           10             bulk\n",
       "10          11    personal care\n",
       "11          12     meat seafood\n",
       "12          13           pantry\n",
       "13          14        breakfast\n",
       "14          15     canned goods\n",
       "15          16       dairy eggs\n",
       "16          17        household\n",
       "17          18           babies\n",
       "18          19           snacks\n",
       "19          20             deli\n",
       "20          21          missing"
      ]
     },
     "execution_count": 47,
     "metadata": {},
     "output_type": "execute_result"
    }
   ],
   "source": [
    "# adding in the department names into the department_id column in df\n",
    "departments"
   ]
  },
  {
   "cell_type": "code",
   "execution_count": 49,
   "id": "243f702e",
   "metadata": {},
   "outputs": [],
   "source": [
    "# Renaming index column\n",
    "departments.rename(columns= {\"Unnamed: 0\": \"department_id\"}, inplace=True)"
   ]
  },
  {
   "cell_type": "code",
   "execution_count": 52,
   "id": "5d78d1ea",
   "metadata": {},
   "outputs": [
    {
     "data": {
      "text/html": [
       "<div>\n",
       "<style scoped>\n",
       "    .dataframe tbody tr th:only-of-type {\n",
       "        vertical-align: middle;\n",
       "    }\n",
       "\n",
       "    .dataframe tbody tr th {\n",
       "        vertical-align: top;\n",
       "    }\n",
       "\n",
       "    .dataframe thead th {\n",
       "        text-align: right;\n",
       "    }\n",
       "</style>\n",
       "<table border=\"1\" class=\"dataframe\">\n",
       "  <thead>\n",
       "    <tr style=\"text-align: right;\">\n",
       "      <th></th>\n",
       "      <th>department_id</th>\n",
       "      <th>department</th>\n",
       "    </tr>\n",
       "  </thead>\n",
       "  <tbody>\n",
       "    <tr>\n",
       "      <th>0</th>\n",
       "      <td>1</td>\n",
       "      <td>frozen</td>\n",
       "    </tr>\n",
       "    <tr>\n",
       "      <th>1</th>\n",
       "      <td>2</td>\n",
       "      <td>other</td>\n",
       "    </tr>\n",
       "    <tr>\n",
       "      <th>2</th>\n",
       "      <td>3</td>\n",
       "      <td>bakery</td>\n",
       "    </tr>\n",
       "    <tr>\n",
       "      <th>3</th>\n",
       "      <td>4</td>\n",
       "      <td>produce</td>\n",
       "    </tr>\n",
       "    <tr>\n",
       "      <th>4</th>\n",
       "      <td>5</td>\n",
       "      <td>alcohol</td>\n",
       "    </tr>\n",
       "    <tr>\n",
       "      <th>5</th>\n",
       "      <td>6</td>\n",
       "      <td>international</td>\n",
       "    </tr>\n",
       "    <tr>\n",
       "      <th>6</th>\n",
       "      <td>7</td>\n",
       "      <td>beverages</td>\n",
       "    </tr>\n",
       "    <tr>\n",
       "      <th>7</th>\n",
       "      <td>8</td>\n",
       "      <td>pets</td>\n",
       "    </tr>\n",
       "    <tr>\n",
       "      <th>8</th>\n",
       "      <td>9</td>\n",
       "      <td>dry goods pasta</td>\n",
       "    </tr>\n",
       "    <tr>\n",
       "      <th>9</th>\n",
       "      <td>10</td>\n",
       "      <td>bulk</td>\n",
       "    </tr>\n",
       "    <tr>\n",
       "      <th>10</th>\n",
       "      <td>11</td>\n",
       "      <td>personal care</td>\n",
       "    </tr>\n",
       "    <tr>\n",
       "      <th>11</th>\n",
       "      <td>12</td>\n",
       "      <td>meat seafood</td>\n",
       "    </tr>\n",
       "    <tr>\n",
       "      <th>12</th>\n",
       "      <td>13</td>\n",
       "      <td>pantry</td>\n",
       "    </tr>\n",
       "    <tr>\n",
       "      <th>13</th>\n",
       "      <td>14</td>\n",
       "      <td>breakfast</td>\n",
       "    </tr>\n",
       "    <tr>\n",
       "      <th>14</th>\n",
       "      <td>15</td>\n",
       "      <td>canned goods</td>\n",
       "    </tr>\n",
       "    <tr>\n",
       "      <th>15</th>\n",
       "      <td>16</td>\n",
       "      <td>dairy eggs</td>\n",
       "    </tr>\n",
       "    <tr>\n",
       "      <th>16</th>\n",
       "      <td>17</td>\n",
       "      <td>household</td>\n",
       "    </tr>\n",
       "    <tr>\n",
       "      <th>17</th>\n",
       "      <td>18</td>\n",
       "      <td>babies</td>\n",
       "    </tr>\n",
       "    <tr>\n",
       "      <th>18</th>\n",
       "      <td>19</td>\n",
       "      <td>snacks</td>\n",
       "    </tr>\n",
       "    <tr>\n",
       "      <th>19</th>\n",
       "      <td>20</td>\n",
       "      <td>deli</td>\n",
       "    </tr>\n",
       "    <tr>\n",
       "      <th>20</th>\n",
       "      <td>21</td>\n",
       "      <td>missing</td>\n",
       "    </tr>\n",
       "  </tbody>\n",
       "</table>\n",
       "</div>"
      ],
      "text/plain": [
       "    department_id       department\n",
       "0               1           frozen\n",
       "1               2            other\n",
       "2               3           bakery\n",
       "3               4          produce\n",
       "4               5          alcohol\n",
       "5               6    international\n",
       "6               7        beverages\n",
       "7               8             pets\n",
       "8               9  dry goods pasta\n",
       "9              10             bulk\n",
       "10             11    personal care\n",
       "11             12     meat seafood\n",
       "12             13           pantry\n",
       "13             14        breakfast\n",
       "14             15     canned goods\n",
       "15             16       dairy eggs\n",
       "16             17        household\n",
       "17             18           babies\n",
       "18             19           snacks\n",
       "19             20             deli\n",
       "20             21          missing"
      ]
     },
     "execution_count": 52,
     "metadata": {},
     "output_type": "execute_result"
    }
   ],
   "source": [
    "departments"
   ]
  },
  {
   "cell_type": "code",
   "execution_count": 57,
   "id": "a1b03a7c",
   "metadata": {},
   "outputs": [],
   "source": [
    "# Joining 'department_id' and 'department' with zip() function to create a dictionary\n",
    "dict_depts=dict(zip(departments[\"department_id\"], departments[\"department\"]))"
   ]
  },
  {
   "cell_type": "code",
   "execution_count": 58,
   "id": "1c25355c",
   "metadata": {},
   "outputs": [
    {
     "data": {
      "text/plain": [
       "{1: 'frozen',\n",
       " 2: 'other',\n",
       " 3: 'bakery',\n",
       " 4: 'produce',\n",
       " 5: 'alcohol',\n",
       " 6: 'international',\n",
       " 7: 'beverages',\n",
       " 8: 'pets',\n",
       " 9: 'dry goods pasta',\n",
       " 10: 'bulk',\n",
       " 11: 'personal care',\n",
       " 12: 'meat seafood',\n",
       " 13: 'pantry',\n",
       " 14: 'breakfast',\n",
       " 15: 'canned goods',\n",
       " 16: 'dairy eggs',\n",
       " 17: 'household',\n",
       " 18: 'babies',\n",
       " 19: 'snacks',\n",
       " 20: 'deli',\n",
       " 21: 'missing'}"
      ]
     },
     "execution_count": 58,
     "metadata": {},
     "output_type": "execute_result"
    }
   ],
   "source": [
    "dict_depts"
   ]
  },
  {
   "cell_type": "code",
   "execution_count": 59,
   "id": "84229b37",
   "metadata": {},
   "outputs": [],
   "source": [
    "# Mapping customers to department df by the map() function and department dictionary(dprt_map)\n",
    "df_ha_cust['department'] = df_ha_cust['department_id'].map(dict_depts)"
   ]
  },
  {
   "cell_type": "code",
   "execution_count": 60,
   "id": "b2f1d266",
   "metadata": {},
   "outputs": [
    {
     "data": {
      "text/plain": [
       "(29303281, 36)"
      ]
     },
     "execution_count": 60,
     "metadata": {},
     "output_type": "execute_result"
    }
   ],
   "source": [
    "df_ha_cust.shape"
   ]
  },
  {
   "cell_type": "code",
   "execution_count": 61,
   "id": "9261e491",
   "metadata": {},
   "outputs": [
    {
     "data": {
      "text/html": [
       "<div>\n",
       "<style scoped>\n",
       "    .dataframe tbody tr th:only-of-type {\n",
       "        vertical-align: middle;\n",
       "    }\n",
       "\n",
       "    .dataframe tbody tr th {\n",
       "        vertical-align: top;\n",
       "    }\n",
       "\n",
       "    .dataframe thead th {\n",
       "        text-align: right;\n",
       "    }\n",
       "</style>\n",
       "<table border=\"1\" class=\"dataframe\">\n",
       "  <thead>\n",
       "    <tr style=\"text-align: right;\">\n",
       "      <th></th>\n",
       "      <th>order_id</th>\n",
       "      <th>user_id</th>\n",
       "      <th>order_number</th>\n",
       "      <th>orders_day_of_week</th>\n",
       "      <th>order_hour_of_day</th>\n",
       "      <th>days_since_prior_order</th>\n",
       "      <th>product_id</th>\n",
       "      <th>add_to_cart_order</th>\n",
       "      <th>reordered</th>\n",
       "      <th>product_name</th>\n",
       "      <th>aisle_id</th>\n",
       "      <th>department_id</th>\n",
       "      <th>prices</th>\n",
       "      <th>_merge</th>\n",
       "      <th>price_range_loc</th>\n",
       "      <th>busiest_day</th>\n",
       "      <th>busiest_days</th>\n",
       "      <th>busiest_period_of_day</th>\n",
       "      <th>max_order</th>\n",
       "      <th>loyalty_flag</th>\n",
       "      <th>avg_price</th>\n",
       "      <th>spending_flag</th>\n",
       "      <th>median_prior_order</th>\n",
       "      <th>order_frequency_flag</th>\n",
       "      <th>gender</th>\n",
       "      <th>state</th>\n",
       "      <th>age</th>\n",
       "      <th>date_joined</th>\n",
       "      <th>n_dependants</th>\n",
       "      <th>fam_status</th>\n",
       "      <th>income</th>\n",
       "      <th>region</th>\n",
       "      <th>activity_flag</th>\n",
       "      <th>age_group</th>\n",
       "      <th>income_level</th>\n",
       "      <th>department</th>\n",
       "    </tr>\n",
       "  </thead>\n",
       "  <tbody>\n",
       "    <tr>\n",
       "      <th>0</th>\n",
       "      <td>2398795.0</td>\n",
       "      <td>1</td>\n",
       "      <td>2.0</td>\n",
       "      <td>3.0</td>\n",
       "      <td>7.0</td>\n",
       "      <td>15.0</td>\n",
       "      <td>196.0</td>\n",
       "      <td>1.0</td>\n",
       "      <td>1.0</td>\n",
       "      <td>Soda</td>\n",
       "      <td>77.0</td>\n",
       "      <td>7.0</td>\n",
       "      <td>9.0</td>\n",
       "      <td>both</td>\n",
       "      <td>Mid-range product</td>\n",
       "      <td>Regularly busy</td>\n",
       "      <td>Slowest days</td>\n",
       "      <td>Average orders</td>\n",
       "      <td>10.0</td>\n",
       "      <td>New customer</td>\n",
       "      <td>6.372222</td>\n",
       "      <td>Low spender</td>\n",
       "      <td>20.5</td>\n",
       "      <td>Non-frequent customer</td>\n",
       "      <td>Female</td>\n",
       "      <td>Alabama</td>\n",
       "      <td>31</td>\n",
       "      <td>2/17/2019</td>\n",
       "      <td>3</td>\n",
       "      <td>married</td>\n",
       "      <td>40423</td>\n",
       "      <td>South</td>\n",
       "      <td>high-activity</td>\n",
       "      <td>Young adult</td>\n",
       "      <td>Low Income</td>\n",
       "      <td>beverages</td>\n",
       "    </tr>\n",
       "    <tr>\n",
       "      <th>1</th>\n",
       "      <td>473747.0</td>\n",
       "      <td>1</td>\n",
       "      <td>3.0</td>\n",
       "      <td>3.0</td>\n",
       "      <td>12.0</td>\n",
       "      <td>21.0</td>\n",
       "      <td>196.0</td>\n",
       "      <td>1.0</td>\n",
       "      <td>1.0</td>\n",
       "      <td>Soda</td>\n",
       "      <td>77.0</td>\n",
       "      <td>7.0</td>\n",
       "      <td>9.0</td>\n",
       "      <td>both</td>\n",
       "      <td>Mid-range product</td>\n",
       "      <td>Regularly busy</td>\n",
       "      <td>Slowest days</td>\n",
       "      <td>Most orders</td>\n",
       "      <td>10.0</td>\n",
       "      <td>New customer</td>\n",
       "      <td>6.372222</td>\n",
       "      <td>Low spender</td>\n",
       "      <td>20.5</td>\n",
       "      <td>Non-frequent customer</td>\n",
       "      <td>Female</td>\n",
       "      <td>Alabama</td>\n",
       "      <td>31</td>\n",
       "      <td>2/17/2019</td>\n",
       "      <td>3</td>\n",
       "      <td>married</td>\n",
       "      <td>40423</td>\n",
       "      <td>South</td>\n",
       "      <td>high-activity</td>\n",
       "      <td>Young adult</td>\n",
       "      <td>Low Income</td>\n",
       "      <td>beverages</td>\n",
       "    </tr>\n",
       "    <tr>\n",
       "      <th>2</th>\n",
       "      <td>2254736.0</td>\n",
       "      <td>1</td>\n",
       "      <td>4.0</td>\n",
       "      <td>4.0</td>\n",
       "      <td>7.0</td>\n",
       "      <td>29.0</td>\n",
       "      <td>196.0</td>\n",
       "      <td>1.0</td>\n",
       "      <td>1.0</td>\n",
       "      <td>Soda</td>\n",
       "      <td>77.0</td>\n",
       "      <td>7.0</td>\n",
       "      <td>9.0</td>\n",
       "      <td>both</td>\n",
       "      <td>Mid-range product</td>\n",
       "      <td>Least busy</td>\n",
       "      <td>Slowest days</td>\n",
       "      <td>Average orders</td>\n",
       "      <td>10.0</td>\n",
       "      <td>New customer</td>\n",
       "      <td>6.372222</td>\n",
       "      <td>Low spender</td>\n",
       "      <td>20.5</td>\n",
       "      <td>Non-frequent customer</td>\n",
       "      <td>Female</td>\n",
       "      <td>Alabama</td>\n",
       "      <td>31</td>\n",
       "      <td>2/17/2019</td>\n",
       "      <td>3</td>\n",
       "      <td>married</td>\n",
       "      <td>40423</td>\n",
       "      <td>South</td>\n",
       "      <td>high-activity</td>\n",
       "      <td>Young adult</td>\n",
       "      <td>Low Income</td>\n",
       "      <td>beverages</td>\n",
       "    </tr>\n",
       "    <tr>\n",
       "      <th>3</th>\n",
       "      <td>431534.0</td>\n",
       "      <td>1</td>\n",
       "      <td>5.0</td>\n",
       "      <td>4.0</td>\n",
       "      <td>15.0</td>\n",
       "      <td>28.0</td>\n",
       "      <td>196.0</td>\n",
       "      <td>1.0</td>\n",
       "      <td>1.0</td>\n",
       "      <td>Soda</td>\n",
       "      <td>77.0</td>\n",
       "      <td>7.0</td>\n",
       "      <td>9.0</td>\n",
       "      <td>both</td>\n",
       "      <td>Mid-range product</td>\n",
       "      <td>Least busy</td>\n",
       "      <td>Slowest days</td>\n",
       "      <td>Most orders</td>\n",
       "      <td>10.0</td>\n",
       "      <td>New customer</td>\n",
       "      <td>6.372222</td>\n",
       "      <td>Low spender</td>\n",
       "      <td>20.5</td>\n",
       "      <td>Non-frequent customer</td>\n",
       "      <td>Female</td>\n",
       "      <td>Alabama</td>\n",
       "      <td>31</td>\n",
       "      <td>2/17/2019</td>\n",
       "      <td>3</td>\n",
       "      <td>married</td>\n",
       "      <td>40423</td>\n",
       "      <td>South</td>\n",
       "      <td>high-activity</td>\n",
       "      <td>Young adult</td>\n",
       "      <td>Low Income</td>\n",
       "      <td>beverages</td>\n",
       "    </tr>\n",
       "    <tr>\n",
       "      <th>4</th>\n",
       "      <td>3367565.0</td>\n",
       "      <td>1</td>\n",
       "      <td>6.0</td>\n",
       "      <td>2.0</td>\n",
       "      <td>7.0</td>\n",
       "      <td>19.0</td>\n",
       "      <td>196.0</td>\n",
       "      <td>1.0</td>\n",
       "      <td>1.0</td>\n",
       "      <td>Soda</td>\n",
       "      <td>77.0</td>\n",
       "      <td>7.0</td>\n",
       "      <td>9.0</td>\n",
       "      <td>both</td>\n",
       "      <td>Mid-range product</td>\n",
       "      <td>Regularly busy</td>\n",
       "      <td>Regular days</td>\n",
       "      <td>Average orders</td>\n",
       "      <td>10.0</td>\n",
       "      <td>New customer</td>\n",
       "      <td>6.372222</td>\n",
       "      <td>Low spender</td>\n",
       "      <td>20.5</td>\n",
       "      <td>Non-frequent customer</td>\n",
       "      <td>Female</td>\n",
       "      <td>Alabama</td>\n",
       "      <td>31</td>\n",
       "      <td>2/17/2019</td>\n",
       "      <td>3</td>\n",
       "      <td>married</td>\n",
       "      <td>40423</td>\n",
       "      <td>South</td>\n",
       "      <td>high-activity</td>\n",
       "      <td>Young adult</td>\n",
       "      <td>Low Income</td>\n",
       "      <td>beverages</td>\n",
       "    </tr>\n",
       "  </tbody>\n",
       "</table>\n",
       "</div>"
      ],
      "text/plain": [
       "    order_id  user_id  order_number  orders_day_of_week  order_hour_of_day  \\\n",
       "0  2398795.0        1           2.0                 3.0                7.0   \n",
       "1   473747.0        1           3.0                 3.0               12.0   \n",
       "2  2254736.0        1           4.0                 4.0                7.0   \n",
       "3   431534.0        1           5.0                 4.0               15.0   \n",
       "4  3367565.0        1           6.0                 2.0                7.0   \n",
       "\n",
       "   days_since_prior_order  product_id  add_to_cart_order  reordered  \\\n",
       "0                    15.0       196.0                1.0        1.0   \n",
       "1                    21.0       196.0                1.0        1.0   \n",
       "2                    29.0       196.0                1.0        1.0   \n",
       "3                    28.0       196.0                1.0        1.0   \n",
       "4                    19.0       196.0                1.0        1.0   \n",
       "\n",
       "  product_name  aisle_id  department_id  prices _merge    price_range_loc  \\\n",
       "0         Soda      77.0            7.0     9.0   both  Mid-range product   \n",
       "1         Soda      77.0            7.0     9.0   both  Mid-range product   \n",
       "2         Soda      77.0            7.0     9.0   both  Mid-range product   \n",
       "3         Soda      77.0            7.0     9.0   both  Mid-range product   \n",
       "4         Soda      77.0            7.0     9.0   both  Mid-range product   \n",
       "\n",
       "      busiest_day  busiest_days busiest_period_of_day  max_order  \\\n",
       "0  Regularly busy  Slowest days        Average orders       10.0   \n",
       "1  Regularly busy  Slowest days           Most orders       10.0   \n",
       "2      Least busy  Slowest days        Average orders       10.0   \n",
       "3      Least busy  Slowest days           Most orders       10.0   \n",
       "4  Regularly busy  Regular days        Average orders       10.0   \n",
       "\n",
       "   loyalty_flag  avg_price spending_flag  median_prior_order  \\\n",
       "0  New customer   6.372222   Low spender                20.5   \n",
       "1  New customer   6.372222   Low spender                20.5   \n",
       "2  New customer   6.372222   Low spender                20.5   \n",
       "3  New customer   6.372222   Low spender                20.5   \n",
       "4  New customer   6.372222   Low spender                20.5   \n",
       "\n",
       "    order_frequency_flag  gender    state  age date_joined  n_dependants  \\\n",
       "0  Non-frequent customer  Female  Alabama   31   2/17/2019             3   \n",
       "1  Non-frequent customer  Female  Alabama   31   2/17/2019             3   \n",
       "2  Non-frequent customer  Female  Alabama   31   2/17/2019             3   \n",
       "3  Non-frequent customer  Female  Alabama   31   2/17/2019             3   \n",
       "4  Non-frequent customer  Female  Alabama   31   2/17/2019             3   \n",
       "\n",
       "  fam_status  income region  activity_flag    age_group income_level  \\\n",
       "0    married   40423  South  high-activity  Young adult   Low Income   \n",
       "1    married   40423  South  high-activity  Young adult   Low Income   \n",
       "2    married   40423  South  high-activity  Young adult   Low Income   \n",
       "3    married   40423  South  high-activity  Young adult   Low Income   \n",
       "4    married   40423  South  high-activity  Young adult   Low Income   \n",
       "\n",
       "  department  \n",
       "0  beverages  \n",
       "1  beverages  \n",
       "2  beverages  \n",
       "3  beverages  \n",
       "4  beverages  "
      ]
     },
     "execution_count": 61,
     "metadata": {},
     "output_type": "execute_result"
    }
   ],
   "source": [
    "df_ha_cust.head()"
   ]
  },
  {
   "cell_type": "markdown",
   "id": "82a2cfa1",
   "metadata": {},
   "source": [
    "### Creating customer profiles"
   ]
  },
  {
   "cell_type": "code",
   "execution_count": 63,
   "id": "057b5bd6",
   "metadata": {},
   "outputs": [],
   "source": [
    "# creating profile for \"high income single adult\"\n",
    "df_ha_cust.loc[(df_ha_cust['n_dependants'] == 0) & (df_ha_cust['income'] >= 96780), 'profile'] = 'single adult high income'"
   ]
  },
  {
   "cell_type": "code",
   "execution_count": 64,
   "id": "105080b0",
   "metadata": {},
   "outputs": [],
   "source": [
    "# creating profile for \"low income single adult\"\n",
    "df_ha_cust.loc[(df_ha_cust['n_dependants'] == 0) & (df_ha_cust['income'] < 96780), 'profile'] = 'single adult low income'"
   ]
  },
  {
   "cell_type": "code",
   "execution_count": 65,
   "id": "780b601d",
   "metadata": {},
   "outputs": [],
   "source": [
    "# creating profile for \"high income small family\"\n",
    "df_ha_cust.loc[(df_ha_cust['n_dependants'] == 1) & (df_ha_cust['income'] >= 96780), 'profile'] = 'small family high income'"
   ]
  },
  {
   "cell_type": "code",
   "execution_count": 66,
   "id": "98606331",
   "metadata": {},
   "outputs": [],
   "source": [
    "# creating profile for \"low income small family\"\n",
    "df_ha_cust.loc[(df_ha_cust['n_dependants'] == 1) & (df_ha_cust['income'] < 96780), 'profile'] = 'small family low income'"
   ]
  },
  {
   "cell_type": "code",
   "execution_count": 67,
   "id": "22178a60",
   "metadata": {},
   "outputs": [],
   "source": [
    "# creating profile for \"high income big family\"\n",
    "df_ha_cust.loc[(df_ha_cust['n_dependants'] >= 2) & (df_ha_cust['income'] >= 96780), 'profile'] = 'big family high income'"
   ]
  },
  {
   "cell_type": "code",
   "execution_count": 68,
   "id": "3547b236",
   "metadata": {},
   "outputs": [],
   "source": [
    "# creating profile for \"low income big family\"\n",
    "df_ha_cust.loc[(df_ha_cust['n_dependants'] >= 2) & (df_ha_cust['income'] < 96780), 'profile'] = 'big family low income'"
   ]
  },
  {
   "cell_type": "code",
   "execution_count": 69,
   "id": "fce44b63",
   "metadata": {},
   "outputs": [],
   "source": [
    "# creating profile for \"high income retired\"\n",
    "df_ha_cust.loc[(df_ha_cust['age_group'] == 'Senior') & (df_ha_cust['income'] >= 96780), 'profile'] = 'retired high income'"
   ]
  },
  {
   "cell_type": "code",
   "execution_count": 70,
   "id": "97432a95",
   "metadata": {},
   "outputs": [],
   "source": [
    "# creating profile for \"low income retired\"\n",
    "df_ha_cust.loc[(df_ha_cust['age_group'] == 'Senior') & (df_ha_cust['income'] < 96780), 'profile'] = 'retired low income'"
   ]
  },
  {
   "cell_type": "code",
   "execution_count": 71,
   "id": "9ff3df3e",
   "metadata": {},
   "outputs": [
    {
     "data": {
      "text/plain": [
       "big family low income       6304609\n",
       "retired high income         5707447\n",
       "big family high income      4447937\n",
       "small family low income     3152408\n",
       "single adult low income     3146564\n",
       "single adult high income    2264753\n",
       "small family high income    2232450\n",
       "retired low income          2047113\n",
       "Name: profile, dtype: int64"
      ]
     },
     "execution_count": 71,
     "metadata": {},
     "output_type": "execute_result"
    }
   ],
   "source": [
    "df_ha_cust['profile'].value_counts(dropna = False)"
   ]
  },
  {
   "cell_type": "markdown",
   "id": "11d1b6bb",
   "metadata": {},
   "source": [
    "## 06. Creating appropriate visualizations for profiles"
   ]
  },
  {
   "cell_type": "code",
   "execution_count": 77,
   "id": "8499ca14",
   "metadata": {},
   "outputs": [
    {
     "data": {
      "text/plain": [
       "Text(0.5, 1.0, 'Customer profiles')"
      ]
     },
     "execution_count": 77,
     "metadata": {},
     "output_type": "execute_result"
    },
    {
     "data": {
      "image/png": "[encoded data removed]",
      "text/plain": [
       "<Figure size 1100x500 with 1 Axes>"
      ]
     },
     "metadata": {},
     "output_type": "display_data"
    }
   ],
   "source": [
    "# creating a barchart with the profiles\n",
    "bar = df_ha_cust['profile'].value_counts().plot.bar(rot=65, figsize = (11,5))\n",
    "plt.ylabel ('Customers (in millions)')\n",
    "plt.title (\"Customer profiles\")"
   ]
  },
  {
   "cell_type": "code",
   "execution_count": 164,
   "id": "c710b11d",
   "metadata": {},
   "outputs": [],
   "source": [
    "#exporting bar chart of profiles\n",
    "bar.figure.savefig(os.path.join(path, '04 Analysis', 'Visualizations','barchart_profiles.png'), bbox_inches='tight')"
   ]
  },
  {
   "cell_type": "markdown",
   "id": "1a535bbe",
   "metadata": {},
   "source": [
    "## 07. Aggregate max, mean, min variables on customer profiles for usage frequency and expenditure"
   ]
  },
  {
   "cell_type": "code",
   "execution_count": 79,
   "id": "cec06fb9",
   "metadata": {},
   "outputs": [
    {
     "data": {
      "text/html": [
       "<div>\n",
       "<style scoped>\n",
       "    .dataframe tbody tr th:only-of-type {\n",
       "        vertical-align: middle;\n",
       "    }\n",
       "\n",
       "    .dataframe tbody tr th {\n",
       "        vertical-align: top;\n",
       "    }\n",
       "\n",
       "    .dataframe thead tr th {\n",
       "        text-align: left;\n",
       "    }\n",
       "\n",
       "    .dataframe thead tr:last-of-type th {\n",
       "        text-align: right;\n",
       "    }\n",
       "</style>\n",
       "<table border=\"1\" class=\"dataframe\">\n",
       "  <thead>\n",
       "    <tr>\n",
       "      <th></th>\n",
       "      <th colspan=\"3\" halign=\"left\">days_since_prior_order</th>\n",
       "    </tr>\n",
       "    <tr>\n",
       "      <th></th>\n",
       "      <th>mean</th>\n",
       "      <th>min</th>\n",
       "      <th>max</th>\n",
       "    </tr>\n",
       "    <tr>\n",
       "      <th>profile</th>\n",
       "      <th></th>\n",
       "      <th></th>\n",
       "      <th></th>\n",
       "    </tr>\n",
       "  </thead>\n",
       "  <tbody>\n",
       "    <tr>\n",
       "      <th>big family high income</th>\n",
       "      <td>10.825163</td>\n",
       "      <td>0.0</td>\n",
       "      <td>30.0</td>\n",
       "    </tr>\n",
       "    <tr>\n",
       "      <th>big family low income</th>\n",
       "      <td>10.844855</td>\n",
       "      <td>0.0</td>\n",
       "      <td>30.0</td>\n",
       "    </tr>\n",
       "    <tr>\n",
       "      <th>retired high income</th>\n",
       "      <td>10.767454</td>\n",
       "      <td>0.0</td>\n",
       "      <td>30.0</td>\n",
       "    </tr>\n",
       "    <tr>\n",
       "      <th>retired low income</th>\n",
       "      <td>10.859631</td>\n",
       "      <td>0.0</td>\n",
       "      <td>30.0</td>\n",
       "    </tr>\n",
       "    <tr>\n",
       "      <th>single adult high income</th>\n",
       "      <td>10.702440</td>\n",
       "      <td>0.0</td>\n",
       "      <td>30.0</td>\n",
       "    </tr>\n",
       "    <tr>\n",
       "      <th>single adult low income</th>\n",
       "      <td>10.870629</td>\n",
       "      <td>0.0</td>\n",
       "      <td>30.0</td>\n",
       "    </tr>\n",
       "    <tr>\n",
       "      <th>small family high income</th>\n",
       "      <td>10.786021</td>\n",
       "      <td>0.0</td>\n",
       "      <td>30.0</td>\n",
       "    </tr>\n",
       "    <tr>\n",
       "      <th>small family low income</th>\n",
       "      <td>10.800227</td>\n",
       "      <td>0.0</td>\n",
       "      <td>30.0</td>\n",
       "    </tr>\n",
       "  </tbody>\n",
       "</table>\n",
       "</div>"
      ],
      "text/plain": [
       "                         days_since_prior_order           \n",
       "                                           mean  min   max\n",
       "profile                                                   \n",
       "big family high income                10.825163  0.0  30.0\n",
       "big family low income                 10.844855  0.0  30.0\n",
       "retired high income                   10.767454  0.0  30.0\n",
       "retired low income                    10.859631  0.0  30.0\n",
       "single adult high income              10.702440  0.0  30.0\n",
       "single adult low income               10.870629  0.0  30.0\n",
       "small family high income              10.786021  0.0  30.0\n",
       "small family low income               10.800227  0.0  30.0"
      ]
     },
     "execution_count": 79,
     "metadata": {},
     "output_type": "execute_result"
    }
   ],
   "source": [
    "#comparing the max, min, and mean values on usage frequency\n",
    "df_ha_cust.groupby('profile').agg({'days_since_prior_order':['mean', 'min','max']})"
   ]
  },
  {
   "cell_type": "code",
   "execution_count": 80,
   "id": "7ed0d409",
   "metadata": {},
   "outputs": [
    {
     "data": {
      "text/html": [
       "<div>\n",
       "<style scoped>\n",
       "    .dataframe tbody tr th:only-of-type {\n",
       "        vertical-align: middle;\n",
       "    }\n",
       "\n",
       "    .dataframe tbody tr th {\n",
       "        vertical-align: top;\n",
       "    }\n",
       "\n",
       "    .dataframe thead tr th {\n",
       "        text-align: left;\n",
       "    }\n",
       "\n",
       "    .dataframe thead tr:last-of-type th {\n",
       "        text-align: right;\n",
       "    }\n",
       "</style>\n",
       "<table border=\"1\" class=\"dataframe\">\n",
       "  <thead>\n",
       "    <tr>\n",
       "      <th></th>\n",
       "      <th colspan=\"3\" halign=\"left\">prices</th>\n",
       "    </tr>\n",
       "    <tr>\n",
       "      <th></th>\n",
       "      <th>mean</th>\n",
       "      <th>min</th>\n",
       "      <th>max</th>\n",
       "    </tr>\n",
       "    <tr>\n",
       "      <th>profile</th>\n",
       "      <th></th>\n",
       "      <th></th>\n",
       "      <th></th>\n",
       "    </tr>\n",
       "  </thead>\n",
       "  <tbody>\n",
       "    <tr>\n",
       "      <th>big family high income</th>\n",
       "      <td>7.956912</td>\n",
       "      <td>1.0</td>\n",
       "      <td>25.0</td>\n",
       "    </tr>\n",
       "    <tr>\n",
       "      <th>big family low income</th>\n",
       "      <td>7.669465</td>\n",
       "      <td>1.0</td>\n",
       "      <td>25.0</td>\n",
       "    </tr>\n",
       "    <tr>\n",
       "      <th>retired high income</th>\n",
       "      <td>7.957061</td>\n",
       "      <td>1.0</td>\n",
       "      <td>25.0</td>\n",
       "    </tr>\n",
       "    <tr>\n",
       "      <th>retired low income</th>\n",
       "      <td>7.352685</td>\n",
       "      <td>1.0</td>\n",
       "      <td>25.0</td>\n",
       "    </tr>\n",
       "    <tr>\n",
       "      <th>single adult high income</th>\n",
       "      <td>7.949645</td>\n",
       "      <td>1.0</td>\n",
       "      <td>25.0</td>\n",
       "    </tr>\n",
       "    <tr>\n",
       "      <th>single adult low income</th>\n",
       "      <td>7.668598</td>\n",
       "      <td>1.0</td>\n",
       "      <td>25.0</td>\n",
       "    </tr>\n",
       "    <tr>\n",
       "      <th>small family high income</th>\n",
       "      <td>7.952778</td>\n",
       "      <td>1.0</td>\n",
       "      <td>25.0</td>\n",
       "    </tr>\n",
       "    <tr>\n",
       "      <th>small family low income</th>\n",
       "      <td>7.679489</td>\n",
       "      <td>1.0</td>\n",
       "      <td>25.0</td>\n",
       "    </tr>\n",
       "  </tbody>\n",
       "</table>\n",
       "</div>"
      ],
      "text/plain": [
       "                            prices           \n",
       "                              mean  min   max\n",
       "profile                                      \n",
       "big family high income    7.956912  1.0  25.0\n",
       "big family low income     7.669465  1.0  25.0\n",
       "retired high income       7.957061  1.0  25.0\n",
       "retired low income        7.352685  1.0  25.0\n",
       "single adult high income  7.949645  1.0  25.0\n",
       "single adult low income   7.668598  1.0  25.0\n",
       "small family high income  7.952778  1.0  25.0\n",
       "small family low income   7.679489  1.0  25.0"
      ]
     },
     "execution_count": 80,
     "metadata": {},
     "output_type": "execute_result"
    }
   ],
   "source": [
    "#comparing the max, min, and mean values on expenditure\n",
    "df_ha_cust.groupby('profile').agg({'prices':['mean', 'min','max']})"
   ]
  },
  {
   "cell_type": "markdown",
   "id": "35aa9fd0",
   "metadata": {},
   "source": [
    "## 08. Compare customer profiles with regions and departments "
   ]
  },
  {
   "cell_type": "code",
   "execution_count": 81,
   "id": "b560eb0d",
   "metadata": {},
   "outputs": [],
   "source": [
    "# creating a crosstab to compare with regions\n",
    "crosstab_region = pd.crosstab(df_ha_cust['profile'], df_ha_cust['region'], dropna = False)"
   ]
  },
  {
   "cell_type": "code",
   "execution_count": 82,
   "id": "d76d8dd6",
   "metadata": {},
   "outputs": [
    {
     "data": {
      "text/html": [
       "<div>\n",
       "<style scoped>\n",
       "    .dataframe tbody tr th:only-of-type {\n",
       "        vertical-align: middle;\n",
       "    }\n",
       "\n",
       "    .dataframe tbody tr th {\n",
       "        vertical-align: top;\n",
       "    }\n",
       "\n",
       "    .dataframe thead th {\n",
       "        text-align: right;\n",
       "    }\n",
       "</style>\n",
       "<table border=\"1\" class=\"dataframe\">\n",
       "  <thead>\n",
       "    <tr style=\"text-align: right;\">\n",
       "      <th>region</th>\n",
       "      <th>Midwest</th>\n",
       "      <th>Northeast</th>\n",
       "      <th>South</th>\n",
       "      <th>West</th>\n",
       "    </tr>\n",
       "    <tr>\n",
       "      <th>profile</th>\n",
       "      <th></th>\n",
       "      <th></th>\n",
       "      <th></th>\n",
       "      <th></th>\n",
       "    </tr>\n",
       "  </thead>\n",
       "  <tbody>\n",
       "    <tr>\n",
       "      <th>big family high income</th>\n",
       "      <td>1063644</td>\n",
       "      <td>704983</td>\n",
       "      <td>1370505</td>\n",
       "      <td>1129253</td>\n",
       "    </tr>\n",
       "    <tr>\n",
       "      <th>big family low income</th>\n",
       "      <td>1436421</td>\n",
       "      <td>958142</td>\n",
       "      <td>2023379</td>\n",
       "      <td>1626490</td>\n",
       "    </tr>\n",
       "    <tr>\n",
       "      <th>retired high income</th>\n",
       "      <td>1334990</td>\n",
       "      <td>914234</td>\n",
       "      <td>1762474</td>\n",
       "      <td>1458430</td>\n",
       "    </tr>\n",
       "    <tr>\n",
       "      <th>retired low income</th>\n",
       "      <td>464696</td>\n",
       "      <td>328864</td>\n",
       "      <td>643131</td>\n",
       "      <td>527773</td>\n",
       "    </tr>\n",
       "    <tr>\n",
       "      <th>single adult high income</th>\n",
       "      <td>558995</td>\n",
       "      <td>320715</td>\n",
       "      <td>712327</td>\n",
       "      <td>589670</td>\n",
       "    </tr>\n",
       "    <tr>\n",
       "      <th>single adult low income</th>\n",
       "      <td>721533</td>\n",
       "      <td>493015</td>\n",
       "      <td>1012761</td>\n",
       "      <td>798246</td>\n",
       "    </tr>\n",
       "    <tr>\n",
       "      <th>small family high income</th>\n",
       "      <td>537003</td>\n",
       "      <td>363660</td>\n",
       "      <td>670232</td>\n",
       "      <td>582214</td>\n",
       "    </tr>\n",
       "    <tr>\n",
       "      <th>small family low income</th>\n",
       "      <td>751137</td>\n",
       "      <td>481997</td>\n",
       "      <td>1004894</td>\n",
       "      <td>793052</td>\n",
       "    </tr>\n",
       "  </tbody>\n",
       "</table>\n",
       "</div>"
      ],
      "text/plain": [
       "region                    Midwest  Northeast    South     West\n",
       "profile                                                       \n",
       "big family high income    1063644     704983  1370505  1129253\n",
       "big family low income     1436421     958142  2023379  1626490\n",
       "retired high income       1334990     914234  1762474  1458430\n",
       "retired low income         464696     328864   643131   527773\n",
       "single adult high income   558995     320715   712327   589670\n",
       "single adult low income    721533     493015  1012761   798246\n",
       "small family high income   537003     363660   670232   582214\n",
       "small family low income    751137     481997  1004894   793052"
      ]
     },
     "execution_count": 82,
     "metadata": {},
     "output_type": "execute_result"
    }
   ],
   "source": [
    "crosstab_region"
   ]
  },
  {
   "cell_type": "code",
   "execution_count": 83,
   "id": "cba0c78b",
   "metadata": {},
   "outputs": [],
   "source": [
    "# creating a crosstab to compare with departments\n",
    "crosstab_depts = pd.crosstab(df_ha_cust['profile'], df_ha_cust['department'], dropna = False)"
   ]
  },
  {
   "cell_type": "code",
   "execution_count": 84,
   "id": "447f297f",
   "metadata": {},
   "outputs": [
    {
     "data": {
      "text/html": [
       "<div>\n",
       "<style scoped>\n",
       "    .dataframe tbody tr th:only-of-type {\n",
       "        vertical-align: middle;\n",
       "    }\n",
       "\n",
       "    .dataframe tbody tr th {\n",
       "        vertical-align: top;\n",
       "    }\n",
       "\n",
       "    .dataframe thead th {\n",
       "        text-align: right;\n",
       "    }\n",
       "</style>\n",
       "<table border=\"1\" class=\"dataframe\">\n",
       "  <thead>\n",
       "    <tr style=\"text-align: right;\">\n",
       "      <th>department</th>\n",
       "      <th>alcohol</th>\n",
       "      <th>babies</th>\n",
       "      <th>bakery</th>\n",
       "      <th>beverages</th>\n",
       "      <th>breakfast</th>\n",
       "      <th>bulk</th>\n",
       "      <th>canned goods</th>\n",
       "      <th>dairy eggs</th>\n",
       "      <th>deli</th>\n",
       "      <th>dry goods pasta</th>\n",
       "      <th>frozen</th>\n",
       "      <th>household</th>\n",
       "      <th>international</th>\n",
       "      <th>meat seafood</th>\n",
       "      <th>missing</th>\n",
       "      <th>other</th>\n",
       "      <th>pantry</th>\n",
       "      <th>personal care</th>\n",
       "      <th>pets</th>\n",
       "      <th>produce</th>\n",
       "      <th>snacks</th>\n",
       "    </tr>\n",
       "    <tr>\n",
       "      <th>profile</th>\n",
       "      <th></th>\n",
       "      <th></th>\n",
       "      <th></th>\n",
       "      <th></th>\n",
       "      <th></th>\n",
       "      <th></th>\n",
       "      <th></th>\n",
       "      <th></th>\n",
       "      <th></th>\n",
       "      <th></th>\n",
       "      <th></th>\n",
       "      <th></th>\n",
       "      <th></th>\n",
       "      <th></th>\n",
       "      <th></th>\n",
       "      <th></th>\n",
       "      <th></th>\n",
       "      <th></th>\n",
       "      <th></th>\n",
       "      <th></th>\n",
       "      <th></th>\n",
       "    </tr>\n",
       "  </thead>\n",
       "  <tbody>\n",
       "    <tr>\n",
       "      <th>big family high income</th>\n",
       "      <td>21514</td>\n",
       "      <td>66628</td>\n",
       "      <td>165700</td>\n",
       "      <td>352956</td>\n",
       "      <td>92763</td>\n",
       "      <td>4237</td>\n",
       "      <td>151060</td>\n",
       "      <td>755610</td>\n",
       "      <td>144970</td>\n",
       "      <td>123091</td>\n",
       "      <td>307811</td>\n",
       "      <td>100299</td>\n",
       "      <td>37125</td>\n",
       "      <td>105345</td>\n",
       "      <td>9387</td>\n",
       "      <td>4923</td>\n",
       "      <td>261826</td>\n",
       "      <td>61404</td>\n",
       "      <td>14276</td>\n",
       "      <td>1322615</td>\n",
       "      <td>344397</td>\n",
       "    </tr>\n",
       "    <tr>\n",
       "      <th>big family low income</th>\n",
       "      <td>28503</td>\n",
       "      <td>80139</td>\n",
       "      <td>223296</td>\n",
       "      <td>539121</td>\n",
       "      <td>140206</td>\n",
       "      <td>7579</td>\n",
       "      <td>198625</td>\n",
       "      <td>1041242</td>\n",
       "      <td>203160</td>\n",
       "      <td>161500</td>\n",
       "      <td>427488</td>\n",
       "      <td>142547</td>\n",
       "      <td>50271</td>\n",
       "      <td>129255</td>\n",
       "      <td>14004</td>\n",
       "      <td>6940</td>\n",
       "      <td>353676</td>\n",
       "      <td>86304</td>\n",
       "      <td>17189</td>\n",
       "      <td>1831997</td>\n",
       "      <td>621567</td>\n",
       "    </tr>\n",
       "    <tr>\n",
       "      <th>retired high income</th>\n",
       "      <td>25234</td>\n",
       "      <td>77801</td>\n",
       "      <td>210096</td>\n",
       "      <td>451987</td>\n",
       "      <td>117378</td>\n",
       "      <td>5951</td>\n",
       "      <td>193378</td>\n",
       "      <td>969834</td>\n",
       "      <td>186072</td>\n",
       "      <td>157246</td>\n",
       "      <td>394917</td>\n",
       "      <td>126414</td>\n",
       "      <td>48086</td>\n",
       "      <td>135416</td>\n",
       "      <td>12237</td>\n",
       "      <td>6270</td>\n",
       "      <td>335252</td>\n",
       "      <td>76348</td>\n",
       "      <td>18403</td>\n",
       "      <td>1713099</td>\n",
       "      <td>446028</td>\n",
       "    </tr>\n",
       "    <tr>\n",
       "      <th>retired low income</th>\n",
       "      <td>8949</td>\n",
       "      <td>23490</td>\n",
       "      <td>69721</td>\n",
       "      <td>196322</td>\n",
       "      <td>47895</td>\n",
       "      <td>2613</td>\n",
       "      <td>58756</td>\n",
       "      <td>326899</td>\n",
       "      <td>64262</td>\n",
       "      <td>47334</td>\n",
       "      <td>136263</td>\n",
       "      <td>49325</td>\n",
       "      <td>15099</td>\n",
       "      <td>35725</td>\n",
       "      <td>4312</td>\n",
       "      <td>2194</td>\n",
       "      <td>110146</td>\n",
       "      <td>28159</td>\n",
       "      <td>5452</td>\n",
       "      <td>570092</td>\n",
       "      <td>244105</td>\n",
       "    </tr>\n",
       "    <tr>\n",
       "      <th>single adult high income</th>\n",
       "      <td>12225</td>\n",
       "      <td>32396</td>\n",
       "      <td>86072</td>\n",
       "      <td>180540</td>\n",
       "      <td>48137</td>\n",
       "      <td>2201</td>\n",
       "      <td>76670</td>\n",
       "      <td>385213</td>\n",
       "      <td>74184</td>\n",
       "      <td>61935</td>\n",
       "      <td>155126</td>\n",
       "      <td>49405</td>\n",
       "      <td>19329</td>\n",
       "      <td>51725</td>\n",
       "      <td>4717</td>\n",
       "      <td>2582</td>\n",
       "      <td>133052</td>\n",
       "      <td>29867</td>\n",
       "      <td>7385</td>\n",
       "      <td>677360</td>\n",
       "      <td>174632</td>\n",
       "    </tr>\n",
       "    <tr>\n",
       "      <th>single adult low income</th>\n",
       "      <td>13694</td>\n",
       "      <td>41511</td>\n",
       "      <td>111686</td>\n",
       "      <td>271594</td>\n",
       "      <td>68964</td>\n",
       "      <td>3427</td>\n",
       "      <td>99246</td>\n",
       "      <td>520972</td>\n",
       "      <td>103406</td>\n",
       "      <td>80280</td>\n",
       "      <td>209883</td>\n",
       "      <td>69546</td>\n",
       "      <td>25766</td>\n",
       "      <td>62914</td>\n",
       "      <td>6979</td>\n",
       "      <td>3631</td>\n",
       "      <td>176364</td>\n",
       "      <td>43741</td>\n",
       "      <td>8439</td>\n",
       "      <td>915929</td>\n",
       "      <td>308592</td>\n",
       "    </tr>\n",
       "    <tr>\n",
       "      <th>small family high income</th>\n",
       "      <td>10812</td>\n",
       "      <td>28321</td>\n",
       "      <td>82024</td>\n",
       "      <td>176793</td>\n",
       "      <td>47231</td>\n",
       "      <td>2466</td>\n",
       "      <td>76622</td>\n",
       "      <td>381120</td>\n",
       "      <td>70278</td>\n",
       "      <td>61234</td>\n",
       "      <td>154172</td>\n",
       "      <td>50414</td>\n",
       "      <td>19023</td>\n",
       "      <td>52804</td>\n",
       "      <td>5128</td>\n",
       "      <td>2545</td>\n",
       "      <td>132463</td>\n",
       "      <td>30765</td>\n",
       "      <td>6369</td>\n",
       "      <td>668603</td>\n",
       "      <td>173263</td>\n",
       "    </tr>\n",
       "    <tr>\n",
       "      <th>small family low income</th>\n",
       "      <td>13936</td>\n",
       "      <td>41421</td>\n",
       "      <td>112017</td>\n",
       "      <td>268273</td>\n",
       "      <td>70895</td>\n",
       "      <td>3524</td>\n",
       "      <td>100092</td>\n",
       "      <td>528463</td>\n",
       "      <td>101221</td>\n",
       "      <td>81373</td>\n",
       "      <td>210784</td>\n",
       "      <td>71025</td>\n",
       "      <td>26170</td>\n",
       "      <td>64092</td>\n",
       "      <td>6625</td>\n",
       "      <td>3487</td>\n",
       "      <td>178612</td>\n",
       "      <td>43151</td>\n",
       "      <td>10292</td>\n",
       "      <td>909006</td>\n",
       "      <td>307949</td>\n",
       "    </tr>\n",
       "  </tbody>\n",
       "</table>\n",
       "</div>"
      ],
      "text/plain": [
       "department                alcohol  babies  bakery  beverages  breakfast  bulk  \\\n",
       "profile                                                                         \n",
       "big family high income      21514   66628  165700     352956      92763  4237   \n",
       "big family low income       28503   80139  223296     539121     140206  7579   \n",
       "retired high income         25234   77801  210096     451987     117378  5951   \n",
       "retired low income           8949   23490   69721     196322      47895  2613   \n",
       "single adult high income    12225   32396   86072     180540      48137  2201   \n",
       "single adult low income     13694   41511  111686     271594      68964  3427   \n",
       "small family high income    10812   28321   82024     176793      47231  2466   \n",
       "small family low income     13936   41421  112017     268273      70895  3524   \n",
       "\n",
       "department                canned goods  dairy eggs    deli  dry goods pasta  \\\n",
       "profile                                                                       \n",
       "big family high income          151060      755610  144970           123091   \n",
       "big family low income           198625     1041242  203160           161500   \n",
       "retired high income             193378      969834  186072           157246   \n",
       "retired low income               58756      326899   64262            47334   \n",
       "single adult high income         76670      385213   74184            61935   \n",
       "single adult low income          99246      520972  103406            80280   \n",
       "small family high income         76622      381120   70278            61234   \n",
       "small family low income         100092      528463  101221            81373   \n",
       "\n",
       "department                frozen  household  international  meat seafood  \\\n",
       "profile                                                                    \n",
       "big family high income    307811     100299          37125        105345   \n",
       "big family low income     427488     142547          50271        129255   \n",
       "retired high income       394917     126414          48086        135416   \n",
       "retired low income        136263      49325          15099         35725   \n",
       "single adult high income  155126      49405          19329         51725   \n",
       "single adult low income   209883      69546          25766         62914   \n",
       "small family high income  154172      50414          19023         52804   \n",
       "small family low income   210784      71025          26170         64092   \n",
       "\n",
       "department                missing  other  pantry  personal care   pets  \\\n",
       "profile                                                                  \n",
       "big family high income       9387   4923  261826          61404  14276   \n",
       "big family low income       14004   6940  353676          86304  17189   \n",
       "retired high income         12237   6270  335252          76348  18403   \n",
       "retired low income           4312   2194  110146          28159   5452   \n",
       "single adult high income     4717   2582  133052          29867   7385   \n",
       "single adult low income      6979   3631  176364          43741   8439   \n",
       "small family high income     5128   2545  132463          30765   6369   \n",
       "small family low income      6625   3487  178612          43151  10292   \n",
       "\n",
       "department                produce  snacks  \n",
       "profile                                    \n",
       "big family high income    1322615  344397  \n",
       "big family low income     1831997  621567  \n",
       "retired high income       1713099  446028  \n",
       "retired low income         570092  244105  \n",
       "single adult high income   677360  174632  \n",
       "single adult low income    915929  308592  \n",
       "small family high income   668603  173263  \n",
       "small family low income    909006  307949  "
      ]
     },
     "execution_count": 84,
     "metadata": {},
     "output_type": "execute_result"
    }
   ],
   "source": [
    "crosstab_depts"
   ]
  },
  {
   "cell_type": "code",
   "execution_count": 102,
   "id": "00db60ed",
   "metadata": {},
   "outputs": [
    {
     "data": {
      "text/plain": [
       "([<matplotlib.axis.XTick at 0x50e683130>,\n",
       "  <matplotlib.axis.XTick at 0x50e683100>,\n",
       "  <matplotlib.axis.XTick at 0x50e5ceaf0>,\n",
       "  <matplotlib.axis.XTick at 0x50e0af8b0>,\n",
       "  <matplotlib.axis.XTick at 0x50e0aa040>,\n",
       "  <matplotlib.axis.XTick at 0x50e0aa340>,\n",
       "  <matplotlib.axis.XTick at 0x50e0aa940>,\n",
       "  <matplotlib.axis.XTick at 0x50e09c0d0>],\n",
       " [Text(0, 0, 'big family\\nhigh income '),\n",
       "  Text(1, 0, 'big family\\nlow income'),\n",
       "  Text(2, 0, 'retired\\nhigh income'),\n",
       "  Text(3, 0, 'retired\\nlow income'),\n",
       "  Text(4, 0, 'single adult\\nhigh income'),\n",
       "  Text(5, 0, 'single adult\\nlow income'),\n",
       "  Text(6, 0, 'small family\\nhigh income'),\n",
       "  Text(7, 0, 'small family\\nlow income')])"
      ]
     },
     "execution_count": 102,
     "metadata": {},
     "output_type": "execute_result"
    },
    {
     "data": {
      "image/png": "[encoded data removed]",
      "text/plain": [
       "<Figure size 640x480 with 1 Axes>"
      ]
     },
     "metadata": {},
     "output_type": "display_data"
    }
   ],
   "source": [
    "# creating a stacked barchart of customer profile by region\n",
    "stacked_region_profile = crosstab_region.plot(kind='bar', stacked=True)\n",
    "\n",
    "# adding a title and rotate the x-axis labels to be horizontal\n",
    "plt.xlabel(\"\")\n",
    "plt.ylabel(\"# of orders (in millions)\")\n",
    "plt.title('Customer Profiles by Region')\n",
    "plt.xticks([0,1,2,3,4,5,6,7],['big family\\nhigh income ','big family\\nlow income','retired\\nhigh income','retired\\nlow income','single adult\\nhigh income','single adult\\nlow income','small family\\nhigh income','small family\\nlow income'],rotation = 45)"
   ]
  },
  {
   "cell_type": "code",
   "execution_count": 104,
   "id": "fdd4d2ad",
   "metadata": {
    "scrolled": false
   },
   "outputs": [
    {
     "data": {
      "text/plain": [
       "<matplotlib.legend.Legend at 0x50fa6a1f0>"
      ]
     },
     "execution_count": 104,
     "metadata": {},
     "output_type": "execute_result"
    },
    {
     "data": {
      "image/png": "[encoded data removed]",
      "text/plain": [
       "<Figure size 2000x1000 with 1 Axes>"
      ]
     },
     "metadata": {},
     "output_type": "display_data"
    }
   ],
   "source": [
    "# creating a stacked barchart of customer profile by departments\n",
    "stacked_depts_profile = crosstab_depts.plot(kind='bar', stacked=True, figsize=(20,10))\n",
    "\n",
    "# adding a title and rotate the x-axis labels to be horizontal\n",
    "plt.xlabel(\"\")\n",
    "plt.ylabel(\"# of orders (in millions)\")\n",
    "plt.title('Customer Profiles by Departments')\n",
    "plt.xticks([0,1,2,3,4,5,6,7],['big family\\nhigh income ','big family\\nlow income','retired\\nhigh income','retired\\nlow income','single adult\\nhigh income','single adult\\nlow income','small family\\nhigh income','small family\\nlow income'],rotation = 0)\n",
    "plt.legend(title=\"Department\", bbox_to_anchor=(1.0,1.0))"
   ]
  },
  {
   "cell_type": "code",
   "execution_count": 103,
   "id": "be2b2c45",
   "metadata": {},
   "outputs": [],
   "source": [
    "#exporting the region bar chart\n",
    "stacked_region_profile.figure.savefig(os.path.join(path, '04 Analysis', 'Visualizations','barchart_profiles_region.png'), bbox_inches='tight')"
   ]
  },
  {
   "cell_type": "code",
   "execution_count": 105,
   "id": "aecc4849",
   "metadata": {},
   "outputs": [],
   "source": [
    "#exporting the departments bar chart\n",
    "stacked_depts_profile.figure.savefig(os.path.join(path, '04 Analysis', 'Visualizations','barchart_profiles_depts.png'), bbox_inches='tight')"
   ]
  },
  {
   "cell_type": "markdown",
   "id": "ade96443",
   "metadata": {},
   "source": [
    "## 09. Producing Additional Charts for report"
   ]
  },
  {
   "cell_type": "code",
   "execution_count": 112,
   "id": "153ae5de",
   "metadata": {},
   "outputs": [
    {
     "data": {
      "text/plain": [
       "(array([0, 1, 2]),\n",
       " [Text(0, 0, 'Mid-range product'),\n",
       "  Text(1, 0, 'Low-range product'),\n",
       "  Text(2, 0, 'High-range product')])"
      ]
     },
     "execution_count": 112,
     "metadata": {},
     "output_type": "execute_result"
    },
    {
     "data": {
      "image/png": "[encoded data removed]",
      "text/plain": [
       "<Figure size 1100x500 with 1 Axes>"
      ]
     },
     "metadata": {},
     "output_type": "display_data"
    }
   ],
   "source": [
    "#creating a graph for price ranges\n",
    "bar_price_range = df_ha_cust['price_range_loc'].value_counts().plot.bar(figsize = (11,5))\n",
    "plt.ylabel ('Customers (in millions)')\n",
    "plt.title (\"Type of products\")\n",
    "plt.xticks (rotation = 0)"
   ]
  },
  {
   "cell_type": "code",
   "execution_count": 113,
   "id": "15f18498",
   "metadata": {},
   "outputs": [],
   "source": [
    "#exporting the price range bar chart\n",
    "bar_price_range.figure.savefig(os.path.join(path, '04 Analysis', 'Visualizations','barchart_product_ranges.png'), bbox_inches='tight')"
   ]
  },
  {
   "cell_type": "code",
   "execution_count": 119,
   "id": "2785fa9a",
   "metadata": {},
   "outputs": [
    {
     "data": {
      "text/plain": [
       "(array([ 0,  1,  2,  3,  4,  5,  6,  7,  8,  9, 10, 11, 12, 13, 14, 15, 16,\n",
       "        17, 18, 19, 20]),\n",
       " [Text(0, 0, 'produce'),\n",
       "  Text(1, 0, 'dairy eggs'),\n",
       "  Text(2, 0, 'snacks'),\n",
       "  Text(3, 0, 'beverages'),\n",
       "  Text(4, 0, 'frozen'),\n",
       "  Text(5, 0, 'pantry'),\n",
       "  Text(6, 0, 'bakery'),\n",
       "  Text(7, 0, 'canned goods'),\n",
       "  Text(8, 0, 'deli'),\n",
       "  Text(9, 0, 'dry goods pasta'),\n",
       "  Text(10, 0, 'household'),\n",
       "  Text(11, 0, 'meat seafood'),\n",
       "  Text(12, 0, 'breakfast'),\n",
       "  Text(13, 0, 'personal care'),\n",
       "  Text(14, 0, 'babies'),\n",
       "  Text(15, 0, 'international'),\n",
       "  Text(16, 0, 'alcohol'),\n",
       "  Text(17, 0, 'pets'),\n",
       "  Text(18, 0, 'missing'),\n",
       "  Text(19, 0, 'other'),\n",
       "  Text(20, 0, 'bulk')])"
      ]
     },
     "execution_count": 119,
     "metadata": {},
     "output_type": "execute_result"
    },
    {
     "data": {
      "image/png": "[encoded data removed]",
      "text/plain": [
       "<Figure size 1100x500 with 1 Axes>"
      ]
     },
     "metadata": {},
     "output_type": "display_data"
    }
   ],
   "source": [
    "# creating a graph for frequency of product orders per department \n",
    "bar_dept_orders = df_ha_cust['department'].value_counts().plot.bar(figsize = (11,5))\n",
    "plt.ylabel ('# of orders (per million)')\n",
    "plt.title (\"Department popularity\")\n",
    "plt.xticks (rotation = 65)"
   ]
  },
  {
   "cell_type": "code",
   "execution_count": 120,
   "id": "8a1662ee",
   "metadata": {},
   "outputs": [],
   "source": [
    "#exporting the departments bar chart\n",
    "bar_dept_orders.figure.savefig(os.path.join(path, '04 Analysis', 'Visualizations','barchart_dept_popular.png'), bbox_inches='tight')"
   ]
  },
  {
   "cell_type": "code",
   "execution_count": 122,
   "id": "577c709a",
   "metadata": {},
   "outputs": [
    {
     "data": {
      "text/plain": [
       "(array([0, 1, 2]),\n",
       " [Text(0, 0, 'Regular customer'),\n",
       "  Text(1, 0, 'Loyal customer'),\n",
       "  Text(2, 0, 'New customer')])"
      ]
     },
     "execution_count": 122,
     "metadata": {},
     "output_type": "execute_result"
    },
    {
     "data": {
      "image/png": "[encoded data removed]",
      "text/plain": [
       "<Figure size 1100x500 with 1 Axes>"
      ]
     },
     "metadata": {},
     "output_type": "display_data"
    }
   ],
   "source": [
    "# creating a graph for frequency of product orders per department \n",
    "bar_loyalty_flag = df_ha_cust['loyalty_flag'].value_counts().plot.bar(figsize = (11,5))\n",
    "plt.ylabel ('# of orders (per million)')\n",
    "plt.title (\"Instacart Loyalty\")\n",
    "plt.xticks (rotation = 0)"
   ]
  },
  {
   "cell_type": "code",
   "execution_count": 124,
   "id": "199f2e98",
   "metadata": {},
   "outputs": [],
   "source": [
    "# viewing connection between loyalty status and user profiles\n",
    "crosstab_loyalty = pd.crosstab(df_ha_cust['loyalty_flag'],df_ha_cust['profile'],dropna = False)"
   ]
  },
  {
   "cell_type": "code",
   "execution_count": 125,
   "id": "d517cf12",
   "metadata": {},
   "outputs": [
    {
     "data": {
      "text/html": [
       "<div>\n",
       "<style scoped>\n",
       "    .dataframe tbody tr th:only-of-type {\n",
       "        vertical-align: middle;\n",
       "    }\n",
       "\n",
       "    .dataframe tbody tr th {\n",
       "        vertical-align: top;\n",
       "    }\n",
       "\n",
       "    .dataframe thead th {\n",
       "        text-align: right;\n",
       "    }\n",
       "</style>\n",
       "<table border=\"1\" class=\"dataframe\">\n",
       "  <thead>\n",
       "    <tr style=\"text-align: right;\">\n",
       "      <th>profile</th>\n",
       "      <th>big family high income</th>\n",
       "      <th>big family low income</th>\n",
       "      <th>retired high income</th>\n",
       "      <th>retired low income</th>\n",
       "      <th>single adult high income</th>\n",
       "      <th>single adult low income</th>\n",
       "      <th>small family high income</th>\n",
       "      <th>small family low income</th>\n",
       "    </tr>\n",
       "    <tr>\n",
       "      <th>loyalty_flag</th>\n",
       "      <th></th>\n",
       "      <th></th>\n",
       "      <th></th>\n",
       "      <th></th>\n",
       "      <th></th>\n",
       "      <th></th>\n",
       "      <th></th>\n",
       "      <th></th>\n",
       "    </tr>\n",
       "  </thead>\n",
       "  <tbody>\n",
       "    <tr>\n",
       "      <th>Loyal customer</th>\n",
       "      <td>1526568</td>\n",
       "      <td>2153492</td>\n",
       "      <td>1970855</td>\n",
       "      <td>702731</td>\n",
       "      <td>806803</td>\n",
       "      <td>1079182</td>\n",
       "      <td>767773</td>\n",
       "      <td>1087977</td>\n",
       "    </tr>\n",
       "    <tr>\n",
       "      <th>New customer</th>\n",
       "      <td>604636</td>\n",
       "      <td>897354</td>\n",
       "      <td>792105</td>\n",
       "      <td>304821</td>\n",
       "      <td>303996</td>\n",
       "      <td>455466</td>\n",
       "      <td>312253</td>\n",
       "      <td>455578</td>\n",
       "    </tr>\n",
       "    <tr>\n",
       "      <th>Regular customer</th>\n",
       "      <td>2316733</td>\n",
       "      <td>3253763</td>\n",
       "      <td>2944487</td>\n",
       "      <td>1039561</td>\n",
       "      <td>1153954</td>\n",
       "      <td>1611916</td>\n",
       "      <td>1152424</td>\n",
       "      <td>1608853</td>\n",
       "    </tr>\n",
       "  </tbody>\n",
       "</table>\n",
       "</div>"
      ],
      "text/plain": [
       "profile           big family high income  big family low income  \\\n",
       "loyalty_flag                                                      \n",
       "Loyal customer                   1526568                2153492   \n",
       "New customer                      604636                 897354   \n",
       "Regular customer                 2316733                3253763   \n",
       "\n",
       "profile           retired high income  retired low income  \\\n",
       "loyalty_flag                                                \n",
       "Loyal customer                1970855              702731   \n",
       "New customer                   792105              304821   \n",
       "Regular customer              2944487             1039561   \n",
       "\n",
       "profile           single adult high income  single adult low income  \\\n",
       "loyalty_flag                                                          \n",
       "Loyal customer                      806803                  1079182   \n",
       "New customer                        303996                   455466   \n",
       "Regular customer                   1153954                  1611916   \n",
       "\n",
       "profile           small family high income  small family low income  \n",
       "loyalty_flag                                                         \n",
       "Loyal customer                      767773                  1087977  \n",
       "New customer                        312253                   455578  \n",
       "Regular customer                   1152424                  1608853  "
      ]
     },
     "execution_count": 125,
     "metadata": {},
     "output_type": "execute_result"
    }
   ],
   "source": [
    "crosstab_loyalty"
   ]
  },
  {
   "cell_type": "code",
   "execution_count": 126,
   "id": "6dee7583",
   "metadata": {},
   "outputs": [],
   "source": [
    "#exporting the loyalty bar chart\n",
    "bar_loyalty_flag.figure.savefig(os.path.join(path, '04 Analysis', 'Visualizations','barchart_loyalty_flag.png'), bbox_inches='tight')"
   ]
  },
  {
   "cell_type": "code",
   "execution_count": 132,
   "id": "977a76f3",
   "metadata": {},
   "outputs": [],
   "source": [
    "# creating cross tab between loyalty status and departments\n",
    "crosstab_loyalty_dept = pd.crosstab(df_ha_cust['department'],df_ha_cust['loyalty_flag'],dropna = False)"
   ]
  },
  {
   "cell_type": "code",
   "execution_count": 133,
   "id": "ba42bcbc",
   "metadata": {},
   "outputs": [
    {
     "data": {
      "text/html": [
       "<div>\n",
       "<style scoped>\n",
       "    .dataframe tbody tr th:only-of-type {\n",
       "        vertical-align: middle;\n",
       "    }\n",
       "\n",
       "    .dataframe tbody tr th {\n",
       "        vertical-align: top;\n",
       "    }\n",
       "\n",
       "    .dataframe thead th {\n",
       "        text-align: right;\n",
       "    }\n",
       "</style>\n",
       "<table border=\"1\" class=\"dataframe\">\n",
       "  <thead>\n",
       "    <tr style=\"text-align: right;\">\n",
       "      <th>loyalty_flag</th>\n",
       "      <th>Loyal customer</th>\n",
       "      <th>New customer</th>\n",
       "      <th>Regular customer</th>\n",
       "    </tr>\n",
       "    <tr>\n",
       "      <th>department</th>\n",
       "      <th></th>\n",
       "      <th></th>\n",
       "      <th></th>\n",
       "    </tr>\n",
       "  </thead>\n",
       "  <tbody>\n",
       "    <tr>\n",
       "      <th>alcohol</th>\n",
       "      <td>38081</td>\n",
       "      <td>23854</td>\n",
       "      <td>72932</td>\n",
       "    </tr>\n",
       "    <tr>\n",
       "      <th>babies</th>\n",
       "      <td>164126</td>\n",
       "      <td>40490</td>\n",
       "      <td>187091</td>\n",
       "    </tr>\n",
       "    <tr>\n",
       "      <th>bakery</th>\n",
       "      <td>372925</td>\n",
       "      <td>147535</td>\n",
       "      <td>540152</td>\n",
       "    </tr>\n",
       "    <tr>\n",
       "      <th>beverages</th>\n",
       "      <td>840147</td>\n",
       "      <td>341838</td>\n",
       "      <td>1255601</td>\n",
       "    </tr>\n",
       "    <tr>\n",
       "      <th>breakfast</th>\n",
       "      <td>217325</td>\n",
       "      <td>90964</td>\n",
       "      <td>325180</td>\n",
       "    </tr>\n",
       "    <tr>\n",
       "      <th>bulk</th>\n",
       "      <td>13595</td>\n",
       "      <td>3598</td>\n",
       "      <td>14805</td>\n",
       "    </tr>\n",
       "    <tr>\n",
       "      <th>canned goods</th>\n",
       "      <td>289296</td>\n",
       "      <td>154458</td>\n",
       "      <td>510695</td>\n",
       "    </tr>\n",
       "    <tr>\n",
       "      <th>dairy eggs</th>\n",
       "      <td>1797296</td>\n",
       "      <td>644262</td>\n",
       "      <td>2467795</td>\n",
       "    </tr>\n",
       "    <tr>\n",
       "      <th>deli</th>\n",
       "      <td>317771</td>\n",
       "      <td>135362</td>\n",
       "      <td>494420</td>\n",
       "    </tr>\n",
       "    <tr>\n",
       "      <th>dry goods pasta</th>\n",
       "      <td>237845</td>\n",
       "      <td>124038</td>\n",
       "      <td>412110</td>\n",
       "    </tr>\n",
       "    <tr>\n",
       "      <th>frozen</th>\n",
       "      <td>597620</td>\n",
       "      <td>318930</td>\n",
       "      <td>1079894</td>\n",
       "    </tr>\n",
       "    <tr>\n",
       "      <th>household</th>\n",
       "      <td>193428</td>\n",
       "      <td>109956</td>\n",
       "      <td>355591</td>\n",
       "    </tr>\n",
       "    <tr>\n",
       "      <th>international</th>\n",
       "      <td>76785</td>\n",
       "      <td>37422</td>\n",
       "      <td>126662</td>\n",
       "    </tr>\n",
       "    <tr>\n",
       "      <th>meat seafood</th>\n",
       "      <td>198741</td>\n",
       "      <td>96584</td>\n",
       "      <td>341951</td>\n",
       "    </tr>\n",
       "    <tr>\n",
       "      <th>missing</th>\n",
       "      <td>18336</td>\n",
       "      <td>11736</td>\n",
       "      <td>33317</td>\n",
       "    </tr>\n",
       "    <tr>\n",
       "      <th>other</th>\n",
       "      <td>10536</td>\n",
       "      <td>4995</td>\n",
       "      <td>17041</td>\n",
       "    </tr>\n",
       "    <tr>\n",
       "      <th>pantry</th>\n",
       "      <td>550138</td>\n",
       "      <td>256216</td>\n",
       "      <td>875037</td>\n",
       "    </tr>\n",
       "    <tr>\n",
       "      <th>personal care</th>\n",
       "      <td>121367</td>\n",
       "      <td>64489</td>\n",
       "      <td>213883</td>\n",
       "    </tr>\n",
       "    <tr>\n",
       "      <th>pets</th>\n",
       "      <td>25011</td>\n",
       "      <td>13526</td>\n",
       "      <td>49268</td>\n",
       "    </tr>\n",
       "    <tr>\n",
       "      <th>produce</th>\n",
       "      <td>3089439</td>\n",
       "      <td>1150657</td>\n",
       "      <td>4368605</td>\n",
       "    </tr>\n",
       "    <tr>\n",
       "      <th>snacks</th>\n",
       "      <td>925573</td>\n",
       "      <td>355299</td>\n",
       "      <td>1339661</td>\n",
       "    </tr>\n",
       "  </tbody>\n",
       "</table>\n",
       "</div>"
      ],
      "text/plain": [
       "loyalty_flag     Loyal customer  New customer  Regular customer\n",
       "department                                                     \n",
       "alcohol                   38081         23854             72932\n",
       "babies                   164126         40490            187091\n",
       "bakery                   372925        147535            540152\n",
       "beverages                840147        341838           1255601\n",
       "breakfast                217325         90964            325180\n",
       "bulk                      13595          3598             14805\n",
       "canned goods             289296        154458            510695\n",
       "dairy eggs              1797296        644262           2467795\n",
       "deli                     317771        135362            494420\n",
       "dry goods pasta          237845        124038            412110\n",
       "frozen                   597620        318930           1079894\n",
       "household                193428        109956            355591\n",
       "international             76785         37422            126662\n",
       "meat seafood             198741         96584            341951\n",
       "missing                   18336         11736             33317\n",
       "other                     10536          4995             17041\n",
       "pantry                   550138        256216            875037\n",
       "personal care            121367         64489            213883\n",
       "pets                      25011         13526             49268\n",
       "produce                 3089439       1150657           4368605\n",
       "snacks                   925573        355299           1339661"
      ]
     },
     "execution_count": 133,
     "metadata": {},
     "output_type": "execute_result"
    }
   ],
   "source": [
    "crosstab_loyalty_dept"
   ]
  },
  {
   "cell_type": "code",
   "execution_count": 139,
   "id": "eac07c59",
   "metadata": {},
   "outputs": [
    {
     "data": {
      "text/plain": [
       "(array([ 0,  1,  2,  3,  4,  5,  6,  7,  8,  9, 10, 11, 12, 13, 14, 15, 16,\n",
       "        17, 18, 19, 20]),\n",
       " [Text(0, 0, 'alcohol'),\n",
       "  Text(1, 0, 'babies'),\n",
       "  Text(2, 0, 'bakery'),\n",
       "  Text(3, 0, 'beverages'),\n",
       "  Text(4, 0, 'breakfast'),\n",
       "  Text(5, 0, 'bulk'),\n",
       "  Text(6, 0, 'canned goods'),\n",
       "  Text(7, 0, 'dairy eggs'),\n",
       "  Text(8, 0, 'deli'),\n",
       "  Text(9, 0, 'dry goods pasta'),\n",
       "  Text(10, 0, 'frozen'),\n",
       "  Text(11, 0, 'household'),\n",
       "  Text(12, 0, 'international'),\n",
       "  Text(13, 0, 'meat seafood'),\n",
       "  Text(14, 0, 'missing'),\n",
       "  Text(15, 0, 'other'),\n",
       "  Text(16, 0, 'pantry'),\n",
       "  Text(17, 0, 'personal care'),\n",
       "  Text(18, 0, 'pets'),\n",
       "  Text(19, 0, 'produce'),\n",
       "  Text(20, 0, 'snacks')])"
      ]
     },
     "execution_count": 139,
     "metadata": {},
     "output_type": "execute_result"
    },
    {
     "data": {
      "image/png": "[encoded data removed]",
      "text/plain": [
       "<Figure size 1500x500 with 1 Axes>"
      ]
     },
     "metadata": {},
     "output_type": "display_data"
    }
   ],
   "source": [
    "# creating a graph for loyalty between product departments \n",
    "bar_loyalty_dept = crosstab_loyalty_dept.plot(kind='bar', figsize=(15,5))\n",
    "plt.ylabel ('# of orders (per million)')\n",
    "plt.xlabel (\"\")\n",
    "plt.title (\"Instacart Loyalty\")\n",
    "plt.xticks (rotation = 25)"
   ]
  },
  {
   "cell_type": "code",
   "execution_count": 140,
   "id": "6fd8fc3b",
   "metadata": {},
   "outputs": [],
   "source": [
    "#exporting the loyalty bar chart per dept\n",
    "bar_loyalty_dept.figure.savefig(os.path.join(path, '04 Analysis', 'Visualizations','barchart_dept_loyalty.png'), bbox_inches='tight')"
   ]
  },
  {
   "cell_type": "code",
   "execution_count": 141,
   "id": "2591aaf1",
   "metadata": {},
   "outputs": [],
   "source": [
    "# creating cross tab between loyalty status and time of day orders\n",
    "crosstab_loyalty_dow = pd.crosstab(df_ha_cust['orders_day_of_week'],df_ha_cust['loyalty_flag'],dropna = False)"
   ]
  },
  {
   "cell_type": "code",
   "execution_count": 142,
   "id": "6d03b179",
   "metadata": {},
   "outputs": [
    {
     "data": {
      "text/html": [
       "<div>\n",
       "<style scoped>\n",
       "    .dataframe tbody tr th:only-of-type {\n",
       "        vertical-align: middle;\n",
       "    }\n",
       "\n",
       "    .dataframe tbody tr th {\n",
       "        vertical-align: top;\n",
       "    }\n",
       "\n",
       "    .dataframe thead th {\n",
       "        text-align: right;\n",
       "    }\n",
       "</style>\n",
       "<table border=\"1\" class=\"dataframe\">\n",
       "  <thead>\n",
       "    <tr style=\"text-align: right;\">\n",
       "      <th>loyalty_flag</th>\n",
       "      <th>Loyal customer</th>\n",
       "      <th>New customer</th>\n",
       "      <th>Regular customer</th>\n",
       "    </tr>\n",
       "    <tr>\n",
       "      <th>orders_day_of_week</th>\n",
       "      <th></th>\n",
       "      <th></th>\n",
       "      <th></th>\n",
       "    </tr>\n",
       "  </thead>\n",
       "  <tbody>\n",
       "    <tr>\n",
       "      <th>0.0</th>\n",
       "      <td>1717918</td>\n",
       "      <td>845568</td>\n",
       "      <td>3004813</td>\n",
       "    </tr>\n",
       "    <tr>\n",
       "      <th>1.0</th>\n",
       "      <td>1809749</td>\n",
       "      <td>704416</td>\n",
       "      <td>2611435</td>\n",
       "    </tr>\n",
       "    <tr>\n",
       "      <th>2.0</th>\n",
       "      <td>1330526</td>\n",
       "      <td>537479</td>\n",
       "      <td>1946059</td>\n",
       "    </tr>\n",
       "    <tr>\n",
       "      <th>3.0</th>\n",
       "      <td>1246650</td>\n",
       "      <td>480505</td>\n",
       "      <td>1751519</td>\n",
       "    </tr>\n",
       "    <tr>\n",
       "      <th>4.0</th>\n",
       "      <td>1270311</td>\n",
       "      <td>461181</td>\n",
       "      <td>1710199</td>\n",
       "    </tr>\n",
       "    <tr>\n",
       "      <th>5.0</th>\n",
       "      <td>1431148</td>\n",
       "      <td>506673</td>\n",
       "      <td>1892196</td>\n",
       "    </tr>\n",
       "    <tr>\n",
       "      <th>6.0</th>\n",
       "      <td>1289079</td>\n",
       "      <td>590387</td>\n",
       "      <td>2165470</td>\n",
       "    </tr>\n",
       "  </tbody>\n",
       "</table>\n",
       "</div>"
      ],
      "text/plain": [
       "loyalty_flag        Loyal customer  New customer  Regular customer\n",
       "orders_day_of_week                                                \n",
       "0.0                        1717918        845568           3004813\n",
       "1.0                        1809749        704416           2611435\n",
       "2.0                        1330526        537479           1946059\n",
       "3.0                        1246650        480505           1751519\n",
       "4.0                        1270311        461181           1710199\n",
       "5.0                        1431148        506673           1892196\n",
       "6.0                        1289079        590387           2165470"
      ]
     },
     "execution_count": 142,
     "metadata": {},
     "output_type": "execute_result"
    }
   ],
   "source": [
    "crosstab_loyalty_dow"
   ]
  },
  {
   "cell_type": "code",
   "execution_count": 143,
   "id": "45862e50",
   "metadata": {},
   "outputs": [
    {
     "data": {
      "text/plain": [
       "(array([0, 1, 2, 3, 4, 5, 6]),\n",
       " [Text(0, 0, '0.0'),\n",
       "  Text(1, 0, '1.0'),\n",
       "  Text(2, 0, '2.0'),\n",
       "  Text(3, 0, '3.0'),\n",
       "  Text(4, 0, '4.0'),\n",
       "  Text(5, 0, '5.0'),\n",
       "  Text(6, 0, '6.0')])"
      ]
     },
     "execution_count": 143,
     "metadata": {},
     "output_type": "execute_result"
    },
    {
     "data": {
      "image/png": "[encoded data removed]",
      "text/plain": [
       "<Figure size 1500x500 with 1 Axes>"
      ]
     },
     "metadata": {},
     "output_type": "display_data"
    }
   ],
   "source": [
    "# creating a graph for loyalty between loyalty and dow \n",
    "bar_loyalty_dow = crosstab_loyalty_dow.plot(kind='bar', figsize=(15,5))\n",
    "plt.ylabel ('# of orders (per million)')\n",
    "plt.xlabel (\"\")\n",
    "plt.title (\"Instacart Loyalty\")\n",
    "plt.xticks (rotation = 25)"
   ]
  },
  {
   "cell_type": "code",
   "execution_count": 144,
   "id": "e74ca03a",
   "metadata": {},
   "outputs": [],
   "source": [
    "#exporting the loyalty bar chart per dept\n",
    "bar_loyalty_dow.figure.savefig(os.path.join(path, '04 Analysis', 'Visualizations','barchart_dow_loyalty.png'), bbox_inches='tight')"
   ]
  },
  {
   "cell_type": "code",
   "execution_count": 145,
   "id": "fbbe7799",
   "metadata": {},
   "outputs": [],
   "source": [
    "# creating cross tab between loyalty status and US region\n",
    "crosstab_loyalty_region = pd.crosstab(df_ha_cust['region'],df_ha_cust['loyalty_flag'],dropna = False)"
   ]
  },
  {
   "cell_type": "code",
   "execution_count": 146,
   "id": "2ee440c7",
   "metadata": {},
   "outputs": [
    {
     "data": {
      "text/html": [
       "<div>\n",
       "<style scoped>\n",
       "    .dataframe tbody tr th:only-of-type {\n",
       "        vertical-align: middle;\n",
       "    }\n",
       "\n",
       "    .dataframe tbody tr th {\n",
       "        vertical-align: top;\n",
       "    }\n",
       "\n",
       "    .dataframe thead th {\n",
       "        text-align: right;\n",
       "    }\n",
       "</style>\n",
       "<table border=\"1\" class=\"dataframe\">\n",
       "  <thead>\n",
       "    <tr style=\"text-align: right;\">\n",
       "      <th>loyalty_flag</th>\n",
       "      <th>Loyal customer</th>\n",
       "      <th>New customer</th>\n",
       "      <th>Regular customer</th>\n",
       "    </tr>\n",
       "    <tr>\n",
       "      <th>region</th>\n",
       "      <th></th>\n",
       "      <th></th>\n",
       "      <th></th>\n",
       "    </tr>\n",
       "  </thead>\n",
       "  <tbody>\n",
       "    <tr>\n",
       "      <th>Midwest</th>\n",
       "      <td>2329930</td>\n",
       "      <td>976004</td>\n",
       "      <td>3562485</td>\n",
       "    </tr>\n",
       "    <tr>\n",
       "      <th>Northeast</th>\n",
       "      <td>1589432</td>\n",
       "      <td>640121</td>\n",
       "      <td>2336057</td>\n",
       "    </tr>\n",
       "    <tr>\n",
       "      <th>South</th>\n",
       "      <td>3162378</td>\n",
       "      <td>1289666</td>\n",
       "      <td>4747659</td>\n",
       "    </tr>\n",
       "    <tr>\n",
       "      <th>West</th>\n",
       "      <td>2614531</td>\n",
       "      <td>1058170</td>\n",
       "      <td>3832427</td>\n",
       "    </tr>\n",
       "  </tbody>\n",
       "</table>\n",
       "</div>"
      ],
      "text/plain": [
       "loyalty_flag  Loyal customer  New customer  Regular customer\n",
       "region                                                      \n",
       "Midwest              2329930        976004           3562485\n",
       "Northeast            1589432        640121           2336057\n",
       "South                3162378       1289666           4747659\n",
       "West                 2614531       1058170           3832427"
      ]
     },
     "execution_count": 146,
     "metadata": {},
     "output_type": "execute_result"
    }
   ],
   "source": [
    "crosstab_loyalty_region"
   ]
  },
  {
   "cell_type": "code",
   "execution_count": 151,
   "id": "9f41bbdb",
   "metadata": {},
   "outputs": [
    {
     "data": {
      "text/plain": [
       "(array([0, 1, 2, 3]),\n",
       " [Text(0, 0, 'Midwest'),\n",
       "  Text(1, 0, 'Northeast'),\n",
       "  Text(2, 0, 'South'),\n",
       "  Text(3, 0, 'West')])"
      ]
     },
     "execution_count": 151,
     "metadata": {},
     "output_type": "execute_result"
    },
    {
     "data": {
      "image/png": "[encoded data removed]",
      "text/plain": [
       "<Figure size 1000x500 with 1 Axes>"
      ]
     },
     "metadata": {},
     "output_type": "display_data"
    }
   ],
   "source": [
    "# creating a graph for loyalty between loyalty and dow \n",
    "bar_loyalty_region = crosstab_loyalty_region.plot(kind='bar', figsize=(10,5))\n",
    "plt.ylabel ('# of orders (per million)')\n",
    "plt.xlabel (\"\")\n",
    "plt.title (\"Instacart Loyalty by US region\")\n",
    "plt.xticks (rotation = 25)"
   ]
  },
  {
   "cell_type": "code",
   "execution_count": 152,
   "id": "83e34f8c",
   "metadata": {},
   "outputs": [],
   "source": [
    "#exporting the loyalty bar chart per region\n",
    "bar_loyalty_region.figure.savefig(os.path.join(path, '04 Analysis', 'Visualizations','barchart_region_loyalty.png'), bbox_inches='tight')"
   ]
  },
  {
   "cell_type": "code",
   "execution_count": 153,
   "id": "5e586715",
   "metadata": {},
   "outputs": [],
   "source": [
    "# creating a crosstab for region and order frequency \n",
    "crosstab_order_region = pd.crosstab(df_ha_cust['region'],df_ha_cust['order_frequency_flag'],dropna = False)"
   ]
  },
  {
   "cell_type": "code",
   "execution_count": 154,
   "id": "b24cc19c",
   "metadata": {},
   "outputs": [
    {
     "data": {
      "text/html": [
       "<div>\n",
       "<style scoped>\n",
       "    .dataframe tbody tr th:only-of-type {\n",
       "        vertical-align: middle;\n",
       "    }\n",
       "\n",
       "    .dataframe tbody tr th {\n",
       "        vertical-align: top;\n",
       "    }\n",
       "\n",
       "    .dataframe thead th {\n",
       "        text-align: right;\n",
       "    }\n",
       "</style>\n",
       "<table border=\"1\" class=\"dataframe\">\n",
       "  <thead>\n",
       "    <tr style=\"text-align: right;\">\n",
       "      <th>order_frequency_flag</th>\n",
       "      <th>Frequent customer</th>\n",
       "      <th>Non-frequent customer</th>\n",
       "      <th>Regular customer</th>\n",
       "    </tr>\n",
       "    <tr>\n",
       "      <th>region</th>\n",
       "      <th></th>\n",
       "      <th></th>\n",
       "      <th></th>\n",
       "    </tr>\n",
       "  </thead>\n",
       "  <tbody>\n",
       "    <tr>\n",
       "      <th>Midwest</th>\n",
       "      <td>4751300</td>\n",
       "      <td>603286</td>\n",
       "      <td>1513833</td>\n",
       "    </tr>\n",
       "    <tr>\n",
       "      <th>Northeast</th>\n",
       "      <td>3181611</td>\n",
       "      <td>385721</td>\n",
       "      <td>998278</td>\n",
       "    </tr>\n",
       "    <tr>\n",
       "      <th>South</th>\n",
       "      <td>6429260</td>\n",
       "      <td>797478</td>\n",
       "      <td>1972965</td>\n",
       "    </tr>\n",
       "    <tr>\n",
       "      <th>West</th>\n",
       "      <td>5254777</td>\n",
       "      <td>647275</td>\n",
       "      <td>1603076</td>\n",
       "    </tr>\n",
       "  </tbody>\n",
       "</table>\n",
       "</div>"
      ],
      "text/plain": [
       "order_frequency_flag  Frequent customer  Non-frequent customer  \\\n",
       "region                                                           \n",
       "Midwest                         4751300                 603286   \n",
       "Northeast                       3181611                 385721   \n",
       "South                           6429260                 797478   \n",
       "West                            5254777                 647275   \n",
       "\n",
       "order_frequency_flag  Regular customer  \n",
       "region                                  \n",
       "Midwest                        1513833  \n",
       "Northeast                       998278  \n",
       "South                          1972965  \n",
       "West                           1603076  "
      ]
     },
     "execution_count": 154,
     "metadata": {},
     "output_type": "execute_result"
    }
   ],
   "source": [
    "crosstab_order_region"
   ]
  },
  {
   "cell_type": "code",
   "execution_count": 160,
   "id": "f015a192",
   "metadata": {},
   "outputs": [
    {
     "data": {
      "text/plain": [
       "(array([0, 1, 2, 3]),\n",
       " [Text(0, 0, 'Midwest'),\n",
       "  Text(1, 0, 'Northeast'),\n",
       "  Text(2, 0, 'South'),\n",
       "  Text(3, 0, 'West')])"
      ]
     },
     "execution_count": 160,
     "metadata": {},
     "output_type": "execute_result"
    },
    {
     "data": {
      "image/png": "[encoded data removed]",
      "text/plain": [
       "<Figure size 1000x500 with 1 Axes>"
      ]
     },
     "metadata": {},
     "output_type": "display_data"
    }
   ],
   "source": [
    "# creating a graph for region and order frequency  \n",
    "bar_order_region = crosstab_order_region.plot(kind='bar', figsize=(10,5), cmap='tab20')\n",
    "plt.ylabel ('# of orders (per million)')\n",
    "plt.xlabel (\"\")\n",
    "plt.title (\"Instacart Order Frequency by US region\")\n",
    "plt.xticks (rotation = 0)"
   ]
  },
  {
   "cell_type": "code",
   "execution_count": 161,
   "id": "3ff9c5f7",
   "metadata": {},
   "outputs": [],
   "source": [
    "#exporting the frequency bar chart per region\n",
    "bar_order_region.figure.savefig(os.path.join(path, '04 Analysis', 'Visualizations','barchart_region_frequency.png'), bbox_inches='tight')"
   ]
  },
  {
   "cell_type": "code",
   "execution_count": 167,
   "id": "b6eb8cad",
   "metadata": {},
   "outputs": [],
   "source": [
    "# creating a crosstab for age and frequency status\n",
    "crosstab_age_orders = pd.crosstab(df_ha_cust['age_group'],df_ha_cust['order_frequency_flag'],dropna = False)"
   ]
  },
  {
   "cell_type": "code",
   "execution_count": 169,
   "id": "66195d31",
   "metadata": {},
   "outputs": [
    {
     "data": {
      "text/html": [
       "<div>\n",
       "<style scoped>\n",
       "    .dataframe tbody tr th:only-of-type {\n",
       "        vertical-align: middle;\n",
       "    }\n",
       "\n",
       "    .dataframe tbody tr th {\n",
       "        vertical-align: top;\n",
       "    }\n",
       "\n",
       "    .dataframe thead th {\n",
       "        text-align: right;\n",
       "    }\n",
       "</style>\n",
       "<table border=\"1\" class=\"dataframe\">\n",
       "  <thead>\n",
       "    <tr style=\"text-align: right;\">\n",
       "      <th>order_frequency_flag</th>\n",
       "      <th>Frequent customer</th>\n",
       "      <th>Non-frequent customer</th>\n",
       "      <th>Regular customer</th>\n",
       "    </tr>\n",
       "    <tr>\n",
       "      <th>age_group</th>\n",
       "      <th></th>\n",
       "      <th></th>\n",
       "      <th></th>\n",
       "    </tr>\n",
       "  </thead>\n",
       "  <tbody>\n",
       "    <tr>\n",
       "      <th>Adult</th>\n",
       "      <td>9895589</td>\n",
       "      <td>1232463</td>\n",
       "      <td>3079954</td>\n",
       "    </tr>\n",
       "    <tr>\n",
       "      <th>Senior</th>\n",
       "      <td>5423281</td>\n",
       "      <td>663948</td>\n",
       "      <td>1667331</td>\n",
       "    </tr>\n",
       "    <tr>\n",
       "      <th>Young adult</th>\n",
       "      <td>5105397</td>\n",
       "      <td>634077</td>\n",
       "      <td>1601241</td>\n",
       "    </tr>\n",
       "  </tbody>\n",
       "</table>\n",
       "</div>"
      ],
      "text/plain": [
       "order_frequency_flag  Frequent customer  Non-frequent customer  \\\n",
       "age_group                                                        \n",
       "Adult                           9895589                1232463   \n",
       "Senior                          5423281                 663948   \n",
       "Young adult                     5105397                 634077   \n",
       "\n",
       "order_frequency_flag  Regular customer  \n",
       "age_group                               \n",
       "Adult                          3079954  \n",
       "Senior                         1667331  \n",
       "Young adult                    1601241  "
      ]
     },
     "execution_count": 169,
     "metadata": {},
     "output_type": "execute_result"
    }
   ],
   "source": [
    "crosstab_age_orders"
   ]
  },
  {
   "cell_type": "code",
   "execution_count": 179,
   "id": "86053b37",
   "metadata": {},
   "outputs": [
    {
     "data": {
      "text/plain": [
       "(array([0, 1, 2]),\n",
       " [Text(0, 0, 'Adult'), Text(1, 0, 'Senior'), Text(2, 0, 'Young adult')])"
      ]
     },
     "execution_count": 179,
     "metadata": {},
     "output_type": "execute_result"
    },
    {
     "data": {
      "image/png": "[encoded data removed]",
      "text/plain": [
       "<Figure size 1000x500 with 1 Axes>"
      ]
     },
     "metadata": {},
     "output_type": "display_data"
    }
   ],
   "source": [
    "# creating a graph for age and order frequency  \n",
    "bar_age_orders = crosstab_age_orders.plot(kind='bar', figsize=(10,5), cmap='tab20c')\n",
    "plt.ylabel ('Frequency (in millions)')\n",
    "plt.xlabel (\"\")\n",
    "plt.title (\"Instacart Order Frequency by Age group\")\n",
    "plt.xticks (rotation = 0)"
   ]
  },
  {
   "cell_type": "code",
   "execution_count": 172,
   "id": "77093040",
   "metadata": {},
   "outputs": [],
   "source": [
    " # creating a crosstab for frequency family status\n",
    "crosstab_dependants_orders = pd.crosstab(df_ha_cust['n_dependants'],df_ha_cust['order_frequency_flag'],dropna = False)"
   ]
  },
  {
   "cell_type": "code",
   "execution_count": 173,
   "id": "9b8f1d26",
   "metadata": {},
   "outputs": [
    {
     "data": {
      "text/html": [
       "<div>\n",
       "<style scoped>\n",
       "    .dataframe tbody tr th:only-of-type {\n",
       "        vertical-align: middle;\n",
       "    }\n",
       "\n",
       "    .dataframe tbody tr th {\n",
       "        vertical-align: top;\n",
       "    }\n",
       "\n",
       "    .dataframe thead th {\n",
       "        text-align: right;\n",
       "    }\n",
       "</style>\n",
       "<table border=\"1\" class=\"dataframe\">\n",
       "  <thead>\n",
       "    <tr style=\"text-align: right;\">\n",
       "      <th>order_frequency_flag</th>\n",
       "      <th>Frequent customer</th>\n",
       "      <th>Non-frequent customer</th>\n",
       "      <th>Regular customer</th>\n",
       "    </tr>\n",
       "    <tr>\n",
       "      <th>n_dependants</th>\n",
       "      <th></th>\n",
       "      <th></th>\n",
       "      <th></th>\n",
       "    </tr>\n",
       "  </thead>\n",
       "  <tbody>\n",
       "    <tr>\n",
       "      <th>0</th>\n",
       "      <td>5091880</td>\n",
       "      <td>625979</td>\n",
       "      <td>1607028</td>\n",
       "    </tr>\n",
       "    <tr>\n",
       "      <th>1</th>\n",
       "      <td>5103288</td>\n",
       "      <td>644428</td>\n",
       "      <td>1555910</td>\n",
       "    </tr>\n",
       "    <tr>\n",
       "      <th>2</th>\n",
       "      <td>5107136</td>\n",
       "      <td>626770</td>\n",
       "      <td>1583419</td>\n",
       "    </tr>\n",
       "    <tr>\n",
       "      <th>3</th>\n",
       "      <td>5121963</td>\n",
       "      <td>633311</td>\n",
       "      <td>1602169</td>\n",
       "    </tr>\n",
       "  </tbody>\n",
       "</table>\n",
       "</div>"
      ],
      "text/plain": [
       "order_frequency_flag  Frequent customer  Non-frequent customer  \\\n",
       "n_dependants                                                     \n",
       "0                               5091880                 625979   \n",
       "1                               5103288                 644428   \n",
       "2                               5107136                 626770   \n",
       "3                               5121963                 633311   \n",
       "\n",
       "order_frequency_flag  Regular customer  \n",
       "n_dependants                            \n",
       "0                              1607028  \n",
       "1                              1555910  \n",
       "2                              1583419  \n",
       "3                              1602169  "
      ]
     },
     "execution_count": 173,
     "metadata": {},
     "output_type": "execute_result"
    }
   ],
   "source": [
    "crosstab_dependants_orders"
   ]
  },
  {
   "cell_type": "code",
   "execution_count": 176,
   "id": "82ddacf4",
   "metadata": {},
   "outputs": [
    {
     "data": {
      "text/plain": [
       "(array([0, 1, 2, 3]),\n",
       " [Text(0, 0, '0'), Text(1, 0, '1'), Text(2, 0, '2'), Text(3, 0, '3')])"
      ]
     },
     "execution_count": 176,
     "metadata": {},
     "output_type": "execute_result"
    },
    {
     "data": {
      "image/png": "[encoded data removed]",
      "text/plain": [
       "<Figure size 1000x500 with 1 Axes>"
      ]
     },
     "metadata": {},
     "output_type": "display_data"
    }
   ],
   "source": [
    "# creating a graph for family size and order frequency  \n",
    "bar_dependants_orders = crosstab_dependants_orders.plot(kind='bar', figsize=(10,5), cmap='tab20c')\n",
    "plt.ylabel ('Frequency (in millions)')\n",
    "plt.xlabel (\"Number of Dependants\")\n",
    "plt.title (\"Instacart Order Frequency by Family status\")\n",
    "plt.xticks (rotation = 0)"
   ]
  },
  {
   "cell_type": "code",
   "execution_count": 180,
   "id": "36e0c95e",
   "metadata": {},
   "outputs": [],
   "source": [
    "#exporting the frequency bar chart per age range\n",
    "bar_age_orders.figure.savefig(os.path.join(path, '04 Analysis', 'Visualizations','barchart_age_order_frequency.png'), bbox_inches='tight')"
   ]
  },
  {
   "cell_type": "code",
   "execution_count": 178,
   "id": "6172e2c1",
   "metadata": {},
   "outputs": [],
   "source": [
    "#exporting the frequency bar chart per region\n",
    "bar_dependants_orders.figure.savefig(os.path.join(path, '04 Analysis', 'Visualizations','barchart_dependants_orders.png'), bbox_inches='tight')"
   ]
  },
  {
   "cell_type": "code",
   "execution_count": 181,
   "id": "b8a528df",
   "metadata": {},
   "outputs": [],
   "source": [
    "# creating a crosstab for age and price range frequency\n",
    "crosstab_age_pricerange = pd.crosstab(df_ha_cust['age_group'],df_ha_cust['price_range_loc'],dropna = False)"
   ]
  },
  {
   "cell_type": "code",
   "execution_count": 182,
   "id": "de47b196",
   "metadata": {},
   "outputs": [
    {
     "data": {
      "text/html": [
       "<div>\n",
       "<style scoped>\n",
       "    .dataframe tbody tr th:only-of-type {\n",
       "        vertical-align: middle;\n",
       "    }\n",
       "\n",
       "    .dataframe tbody tr th {\n",
       "        vertical-align: top;\n",
       "    }\n",
       "\n",
       "    .dataframe thead th {\n",
       "        text-align: right;\n",
       "    }\n",
       "</style>\n",
       "<table border=\"1\" class=\"dataframe\">\n",
       "  <thead>\n",
       "    <tr style=\"text-align: right;\">\n",
       "      <th>price_range_loc</th>\n",
       "      <th>High-range product</th>\n",
       "      <th>Low-range product</th>\n",
       "      <th>Mid-range product</th>\n",
       "    </tr>\n",
       "    <tr>\n",
       "      <th>age_group</th>\n",
       "      <th></th>\n",
       "      <th></th>\n",
       "      <th></th>\n",
       "    </tr>\n",
       "  </thead>\n",
       "  <tbody>\n",
       "    <tr>\n",
       "      <th>Adult</th>\n",
       "      <td>180926</td>\n",
       "      <td>4439348</td>\n",
       "      <td>9587732</td>\n",
       "    </tr>\n",
       "    <tr>\n",
       "      <th>Senior</th>\n",
       "      <td>100977</td>\n",
       "      <td>2421166</td>\n",
       "      <td>5232417</td>\n",
       "    </tr>\n",
       "    <tr>\n",
       "      <th>Young adult</th>\n",
       "      <td>93930</td>\n",
       "      <td>2294804</td>\n",
       "      <td>4951981</td>\n",
       "    </tr>\n",
       "  </tbody>\n",
       "</table>\n",
       "</div>"
      ],
      "text/plain": [
       "price_range_loc  High-range product  Low-range product  Mid-range product\n",
       "age_group                                                                \n",
       "Adult                        180926            4439348            9587732\n",
       "Senior                       100977            2421166            5232417\n",
       "Young adult                   93930            2294804            4951981"
      ]
     },
     "execution_count": 182,
     "metadata": {},
     "output_type": "execute_result"
    }
   ],
   "source": [
    "crosstab_age_pricerange"
   ]
  },
  {
   "cell_type": "code",
   "execution_count": 183,
   "id": "0b4b576e",
   "metadata": {},
   "outputs": [
    {
     "data": {
      "text/plain": [
       "(array([0, 1, 2]),\n",
       " [Text(0, 0, 'Adult'), Text(1, 0, 'Senior'), Text(2, 0, 'Young adult')])"
      ]
     },
     "execution_count": 183,
     "metadata": {},
     "output_type": "execute_result"
    },
    {
     "data": {
      "image/png": "[encoded data removed]",
      "text/plain": [
       "<Figure size 1000x500 with 1 Axes>"
      ]
     },
     "metadata": {},
     "output_type": "display_data"
    }
   ],
   "source": [
    "# creating a graph for age and price range frequency  \n",
    "bar_age_pricerange = crosstab_age_pricerange.plot(kind='bar', figsize=(10,5), cmap='tab20b')\n",
    "plt.ylabel ('Frequency (in millions)')\n",
    "plt.xlabel (\"\")\n",
    "plt.title (\"Instacart Order Frequency by Product Price range\")\n",
    "plt.xticks (rotation = 0)"
   ]
  },
  {
   "cell_type": "code",
   "execution_count": 184,
   "id": "0093ec21",
   "metadata": {},
   "outputs": [],
   "source": [
    "#exporting the frequency bar chart per price range\n",
    "bar_age_pricerange.figure.savefig(os.path.join(path, '04 Analysis', 'Visualizations','barchart_age_pricerange.png'), bbox_inches='tight')"
   ]
  },
  {
   "cell_type": "code",
   "execution_count": 185,
   "id": "93c22d35",
   "metadata": {},
   "outputs": [],
   "source": [
    "# creating a crosstab for price frequency family status\n",
    "crosstab_dependants_pricerange = pd.crosstab(df_ha_cust['n_dependants'],df_ha_cust['price_range_loc'],dropna = False)"
   ]
  },
  {
   "cell_type": "code",
   "execution_count": 186,
   "id": "dee24d5d",
   "metadata": {},
   "outputs": [
    {
     "data": {
      "text/html": [
       "<div>\n",
       "<style scoped>\n",
       "    .dataframe tbody tr th:only-of-type {\n",
       "        vertical-align: middle;\n",
       "    }\n",
       "\n",
       "    .dataframe tbody tr th {\n",
       "        vertical-align: top;\n",
       "    }\n",
       "\n",
       "    .dataframe thead th {\n",
       "        text-align: right;\n",
       "    }\n",
       "</style>\n",
       "<table border=\"1\" class=\"dataframe\">\n",
       "  <thead>\n",
       "    <tr style=\"text-align: right;\">\n",
       "      <th>price_range_loc</th>\n",
       "      <th>High-range product</th>\n",
       "      <th>Low-range product</th>\n",
       "      <th>Mid-range product</th>\n",
       "    </tr>\n",
       "    <tr>\n",
       "      <th>n_dependants</th>\n",
       "      <th></th>\n",
       "      <th></th>\n",
       "      <th></th>\n",
       "    </tr>\n",
       "  </thead>\n",
       "  <tbody>\n",
       "    <tr>\n",
       "      <th>0</th>\n",
       "      <td>91938</td>\n",
       "      <td>2289060</td>\n",
       "      <td>4943889</td>\n",
       "    </tr>\n",
       "    <tr>\n",
       "      <th>1</th>\n",
       "      <td>94017</td>\n",
       "      <td>2278028</td>\n",
       "      <td>4931581</td>\n",
       "    </tr>\n",
       "    <tr>\n",
       "      <th>2</th>\n",
       "      <td>94750</td>\n",
       "      <td>2290296</td>\n",
       "      <td>4932279</td>\n",
       "    </tr>\n",
       "    <tr>\n",
       "      <th>3</th>\n",
       "      <td>95128</td>\n",
       "      <td>2297934</td>\n",
       "      <td>4964381</td>\n",
       "    </tr>\n",
       "  </tbody>\n",
       "</table>\n",
       "</div>"
      ],
      "text/plain": [
       "price_range_loc  High-range product  Low-range product  Mid-range product\n",
       "n_dependants                                                             \n",
       "0                             91938            2289060            4943889\n",
       "1                             94017            2278028            4931581\n",
       "2                             94750            2290296            4932279\n",
       "3                             95128            2297934            4964381"
      ]
     },
     "execution_count": 186,
     "metadata": {},
     "output_type": "execute_result"
    }
   ],
   "source": [
    "crosstab_dependants_pricerange"
   ]
  },
  {
   "cell_type": "code",
   "execution_count": 190,
   "id": "19ea8977",
   "metadata": {},
   "outputs": [
    {
     "data": {
      "text/plain": [
       "(array([0, 1, 2, 3]),\n",
       " [Text(0, 0, '0'), Text(1, 0, '1'), Text(2, 0, '2'), Text(3, 0, '3')])"
      ]
     },
     "execution_count": 190,
     "metadata": {},
     "output_type": "execute_result"
    },
    {
     "data": {
      "image/png": "[encoded data removed]",
      "text/plain": [
       "<Figure size 1000x500 with 1 Axes>"
      ]
     },
     "metadata": {},
     "output_type": "display_data"
    }
   ],
   "source": [
    "# creating a graph for number of dependants and price range frequency  \n",
    "bar_dependants_pricerange = crosstab_dependants_pricerange.plot(kind='bar', figsize=(10,5), cmap='tab20b')\n",
    "plt.ylabel ('Frequency (in millions)')\n",
    "plt.xlabel (\"Number of Dependants\")\n",
    "plt.title (\"Instacart Order Frequency by # of Dependants and Product Price range\")\n",
    "plt.xticks (rotation = 0)"
   ]
  },
  {
   "cell_type": "code",
   "execution_count": 191,
   "id": "2f5ee585",
   "metadata": {},
   "outputs": [],
   "source": [
    "#exporting the price range per dependants chart\n",
    "bar_dependants_pricerange.figure.savefig(os.path.join(path, '04 Analysis', 'Visualizations','barchart_dependants_pricerange.png'), bbox_inches='tight')"
   ]
  },
  {
   "cell_type": "markdown",
   "id": "10ff0a02",
   "metadata": {},
   "source": [
    "## 10. Exporting final dataset"
   ]
  },
  {
   "cell_type": "code",
   "execution_count": 192,
   "id": "54e644aa",
   "metadata": {},
   "outputs": [],
   "source": [
    "#Export df_ha_cust in .pkl format\n",
    "df_ha_cust.to_pickle(os.path.join(path, '02 Data', 'Prepared Data', 'highact_customers_final.pkl'))"
   ]
  }
 ],
 "metadata": {
  "kernelspec": {
   "display_name": "Python 3 (ipykernel)",
   "language": "python",
   "name": "python3"
  },
  "language_info": {
   "codemirror_mode": {
    "name": "ipython",
    "version": 3
   },
   "file_extension": ".py",
   "mimetype": "text/x-python",
   "name": "python",
   "nbconvert_exporter": "python",
   "pygments_lexer": "ipython3",
   "version": "3.9.13"
  }
 },
 "nbformat": 4,
 "nbformat_minor": 5
}
