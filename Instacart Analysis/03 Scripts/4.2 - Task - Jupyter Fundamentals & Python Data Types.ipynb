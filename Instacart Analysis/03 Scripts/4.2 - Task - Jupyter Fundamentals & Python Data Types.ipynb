{
 "cells": [
  {
   "cell_type": "markdown",
   "id": "420190b7",
   "metadata": {},
   "source": [
    "# Table of contents:\n",
    "### 1. Importing Libraries\n",
    "### 2. Python Data Types review"
   ]
  },
  {
   "cell_type": "markdown",
   "id": "dd2aa2fb",
   "metadata": {},
   "source": [
    "# 01. Import Libraries"
   ]
  },
  {
   "cell_type": "code",
   "execution_count": 1,
   "id": "b70fff31",
   "metadata": {},
   "outputs": [],
   "source": [
    "# Import Libraries\n",
    "import pandas as pd\n",
    "import numpy as np\n",
    "import os"
   ]
  },
  {
   "cell_type": "markdown",
   "id": "a176c1f4",
   "metadata": {},
   "source": [
    "# 02. Python Data Types"
   ]
  },
  {
   "cell_type": "code",
   "execution_count": 2,
   "id": "12a69776",
   "metadata": {},
   "outputs": [],
   "source": [
    "x=25"
   ]
  },
  {
   "cell_type": "code",
   "execution_count": 3,
   "id": "a9f0d50d",
   "metadata": {},
   "outputs": [
    {
     "data": {
      "text/plain": [
       "100"
      ]
     },
     "execution_count": 3,
     "metadata": {},
     "output_type": "execute_result"
    }
   ],
   "source": [
    "x*4"
   ]
  },
  {
   "cell_type": "code",
   "execution_count": 4,
   "id": "302aef6f",
   "metadata": {},
   "outputs": [],
   "source": [
    "y=75"
   ]
  },
  {
   "cell_type": "code",
   "execution_count": 5,
   "id": "c5522c3a",
   "metadata": {},
   "outputs": [
    {
     "data": {
      "text/plain": [
       "100"
      ]
     },
     "execution_count": 5,
     "metadata": {},
     "output_type": "execute_result"
    }
   ],
   "source": [
    "x+y"
   ]
  },
  {
   "cell_type": "code",
   "execution_count": 6,
   "id": "c7dbf038",
   "metadata": {},
   "outputs": [
    {
     "data": {
      "text/plain": [
       "100"
      ]
     },
     "execution_count": 6,
     "metadata": {},
     "output_type": "execute_result"
    }
   ],
   "source": [
    "y+y-x*2"
   ]
  },
  {
   "cell_type": "code",
   "execution_count": 7,
   "id": "67c89c3d",
   "metadata": {},
   "outputs": [],
   "source": [
    "a=2.5"
   ]
  },
  {
   "cell_type": "code",
   "execution_count": 8,
   "id": "e548149a",
   "metadata": {},
   "outputs": [],
   "source": [
    "b=6.4"
   ]
  },
  {
   "cell_type": "code",
   "execution_count": 9,
   "id": "1b1b481f",
   "metadata": {},
   "outputs": [
    {
     "data": {
      "text/plain": [
       "2.56"
      ]
     },
     "execution_count": 9,
     "metadata": {},
     "output_type": "execute_result"
    }
   ],
   "source": [
    "b/a"
   ]
  },
  {
   "cell_type": "code",
   "execution_count": 10,
   "id": "210e4b3d",
   "metadata": {},
   "outputs": [],
   "source": [
    "c= 'summ'"
   ]
  },
  {
   "cell_type": "code",
   "execution_count": 11,
   "id": "a2c77ef6",
   "metadata": {},
   "outputs": [],
   "source": [
    "d= 'ary'"
   ]
  },
  {
   "cell_type": "code",
   "execution_count": 12,
   "id": "5e915121",
   "metadata": {},
   "outputs": [
    {
     "data": {
      "text/plain": [
       "'summary'"
      ]
     },
     "execution_count": 12,
     "metadata": {},
     "output_type": "execute_result"
    }
   ],
   "source": [
    "c+d"
   ]
  },
  {
   "cell_type": "code",
   "execution_count": 13,
   "id": "7a130ace",
   "metadata": {},
   "outputs": [],
   "source": [
    "e = 'Hello Careerfoundry.'"
   ]
  },
  {
   "cell_type": "code",
   "execution_count": 14,
   "id": "e7f825dc",
   "metadata": {},
   "outputs": [],
   "source": [
    "f = 'My name is Liana.'"
   ]
  },
  {
   "cell_type": "code",
   "execution_count": 15,
   "id": "fdc53cfd",
   "metadata": {},
   "outputs": [
    {
     "data": {
      "text/plain": [
       "'Hello Careerfoundry.My name is Liana.'"
      ]
     },
     "execution_count": 15,
     "metadata": {},
     "output_type": "execute_result"
    }
   ],
   "source": [
    "e+f"
   ]
  },
  {
   "cell_type": "code",
   "execution_count": null,
   "id": "e44edc38",
   "metadata": {},
   "outputs": [],
   "source": []
  }
 ],
 "metadata": {
  "kernelspec": {
   "display_name": "Python 3 (ipykernel)",
   "language": "python",
   "name": "python3"
  },
  "language_info": {
   "codemirror_mode": {
    "name": "ipython",
    "version": 3
   },
   "file_extension": ".py",
   "mimetype": "text/x-python",
   "name": "python",
   "nbconvert_exporter": "python",
   "pygments_lexer": "ipython3",
   "version": "3.9.13"
  }
 },
 "nbformat": 4,
 "nbformat_minor": 5
}
